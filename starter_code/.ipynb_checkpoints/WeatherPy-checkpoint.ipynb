{
 "cells": [
  {
   "cell_type": "markdown",
   "metadata": {},
   "source": [
    "# WeatherPy\n",
    "----\n",
    "\n",
    "#### Note\n",
    "* Instructions have been included for each segment. You do not have to follow them exactly, but they are included to help you think through the steps."
   ]
  },
  {
   "cell_type": "code",
   "execution_count": 68,
   "metadata": {
    "scrolled": true
   },
   "outputs": [],
   "source": [
    "# Dependencies and Setup\n",
    "import matplotlib.pyplot as plt\n",
    "import pandas as pd\n",
    "import numpy as np\n",
    "import requests\n",
    "import time\n",
    "from scipy.stats import linregress\n",
    "\n",
    "# Import API key\n",
    "from api_keys import weather_api_key\n",
    "from api_keys import g_key\n",
    "\n",
    "# Incorporated citipy to determine city based on latitude and longitude\n",
    "from citipy import citipy\n",
    "\n",
    "# Output File (CSV)\n",
    "output_data_file = \"output_data/cities.csv\"\n",
    "\n",
    "# Range of latitudes and longitudes\n",
    "lat_range = (-90, 90)\n",
    "lng_range = (-180, 180)"
   ]
  },
  {
   "cell_type": "markdown",
   "metadata": {},
   "source": [
    "## Generate Cities List"
   ]
  },
  {
   "cell_type": "code",
   "execution_count": 65,
   "metadata": {
    "scrolled": true
   },
   "outputs": [
    {
     "data": {
      "text/html": [
       "<div>\n",
       "<style scoped>\n",
       "    .dataframe tbody tr th:only-of-type {\n",
       "        vertical-align: middle;\n",
       "    }\n",
       "\n",
       "    .dataframe tbody tr th {\n",
       "        vertical-align: top;\n",
       "    }\n",
       "\n",
       "    .dataframe thead th {\n",
       "        text-align: right;\n",
       "    }\n",
       "</style>\n",
       "<table border=\"1\" class=\"dataframe\">\n",
       "  <thead>\n",
       "    <tr style=\"text-align: right;\">\n",
       "      <th></th>\n",
       "      <th>city</th>\n",
       "    </tr>\n",
       "  </thead>\n",
       "  <tbody>\n",
       "    <tr>\n",
       "      <th>0</th>\n",
       "      <td>manggar</td>\n",
       "    </tr>\n",
       "    <tr>\n",
       "      <th>1</th>\n",
       "      <td>dakoro</td>\n",
       "    </tr>\n",
       "    <tr>\n",
       "      <th>2</th>\n",
       "      <td>azovo</td>\n",
       "    </tr>\n",
       "    <tr>\n",
       "      <th>3</th>\n",
       "      <td>san juan</td>\n",
       "    </tr>\n",
       "    <tr>\n",
       "      <th>4</th>\n",
       "      <td>husavik</td>\n",
       "    </tr>\n",
       "  </tbody>\n",
       "</table>\n",
       "</div>"
      ],
      "text/plain": [
       "       city\n",
       "0   manggar\n",
       "1    dakoro\n",
       "2     azovo\n",
       "3  san juan\n",
       "4   husavik"
      ]
     },
     "execution_count": 65,
     "metadata": {},
     "output_type": "execute_result"
    }
   ],
   "source": [
    "# List for holding lat_lngs and cities\n",
    "lat_lngs = []\n",
    "cities = []\n",
    "\n",
    "# Create a set of random lat and lng combinations\n",
    "lats = np.random.uniform(lat_range[0], lat_range[1], size=1500)\n",
    "lngs = np.random.uniform(lng_range[0], lng_range[1], size=1500)\n",
    "lat_lngs = zip(lats, lngs)\n",
    "\n",
    "# Identify nearest city for each lat, lng combination\n",
    "for lat_lng in lat_lngs:\n",
    "    city = citipy.nearest_city(lat_lng[0], lat_lng[1]).city_name\n",
    "    \n",
    "    # If the city is unique, then add it to a our cities list\n",
    "    if city not in cities:\n",
    "        cities.append(city)\n",
    "\n",
    "# Print the city count to confirm sufficient count\n",
    "len(cities)\n",
    "# lat_data_df = pd.DataFrame({'lats':lats,})\n",
    "# lat_data_df = lat_data_df[:10]\n",
    "cities_df = pd.DataFrame({'city':cities})\n",
    "cities_df.head()"
   ]
  },
  {
   "cell_type": "markdown",
   "metadata": {},
   "source": [
    "### Perform API Calls\n",
    "* Perform a weather check on each city using a series of successive API calls.\n",
    "* Include a print log of each city as it'sbeing processed (with the city number and city name).\n"
   ]
  },
  {
   "cell_type": "code",
   "execution_count": 75,
   "metadata": {},
   "outputs": [
    {
     "name": "stdout",
     "output_type": "stream",
     "text": [
      "Missing field/result... skipping.\n",
      "Missing field/result... skipping.\n",
      "Missing field/result... skipping.\n",
      "Missing field/result... skipping.\n",
      "Missing field/result... skipping.\n",
      "Missing field/result... skipping.\n"
     ]
    },
    {
     "data": {
      "text/html": [
       "<div>\n",
       "<style scoped>\n",
       "    .dataframe tbody tr th:only-of-type {\n",
       "        vertical-align: middle;\n",
       "    }\n",
       "\n",
       "    .dataframe tbody tr th {\n",
       "        vertical-align: top;\n",
       "    }\n",
       "\n",
       "    .dataframe thead th {\n",
       "        text-align: right;\n",
       "    }\n",
       "</style>\n",
       "<table border=\"1\" class=\"dataframe\">\n",
       "  <thead>\n",
       "    <tr style=\"text-align: right;\">\n",
       "      <th></th>\n",
       "      <th>city</th>\n",
       "      <th>Lat</th>\n",
       "      <th>Lng</th>\n",
       "    </tr>\n",
       "  </thead>\n",
       "  <tbody>\n",
       "    <tr>\n",
       "      <th>0</th>\n",
       "      <td>manggar</td>\n",
       "      <td>-2.870315</td>\n",
       "      <td>108.279273</td>\n",
       "    </tr>\n",
       "    <tr>\n",
       "      <th>1</th>\n",
       "      <td>dakoro</td>\n",
       "      <td>14.508918</td>\n",
       "      <td>6.765460</td>\n",
       "    </tr>\n",
       "    <tr>\n",
       "      <th>2</th>\n",
       "      <td>azovo</td>\n",
       "      <td>54.704767</td>\n",
       "      <td>73.041044</td>\n",
       "    </tr>\n",
       "    <tr>\n",
       "      <th>3</th>\n",
       "      <td>san juan</td>\n",
       "      <td>38.665911</td>\n",
       "      <td>-121.285525</td>\n",
       "    </tr>\n",
       "    <tr>\n",
       "      <th>4</th>\n",
       "      <td>husavik</td>\n",
       "      <td>66.044971</td>\n",
       "      <td>-17.338344</td>\n",
       "    </tr>\n",
       "  </tbody>\n",
       "</table>\n",
       "</div>"
      ],
      "text/plain": [
       "       city        Lat         Lng\n",
       "0   manggar  -2.870315  108.279273\n",
       "1    dakoro  14.508918    6.765460\n",
       "2     azovo  54.704767   73.041044\n",
       "3  san juan  38.665911 -121.285525\n",
       "4   husavik  66.044971  -17.338344"
      ]
     },
     "execution_count": 75,
     "metadata": {},
     "output_type": "execute_result"
    }
   ],
   "source": [
    "params = {\"key\": g_key}\n",
    "\n",
    "# Loop through the cities_df and run a lat/long search for each city\n",
    "for index, row in cities_df.iterrows():\n",
    "    base_url = \"https://maps.googleapis.com/maps/api/geocode/json\"\n",
    "\n",
    "    city = row['city']\n",
    "#     state = row['State']\n",
    "\n",
    "    # udfate address key value\n",
    "    params['address'] = f\"{city}\"\n",
    "\n",
    "    # make request\n",
    "    cities_lat_lng = requests.get(base_url, params=params)\n",
    "    \n",
    "    # print the cities_lat_lng url, avoid doing for public github repos in order to avoid exposing key\n",
    "    # print(cities_lat_lng.url)\n",
    "    \n",
    "    # convert to json\n",
    "    cities_lat_lng = cities_lat_lng.json()\n",
    "    \n",
    "    try:\n",
    "        cities_df.loc[index, \"Lat\"] = cities_lat_lng[\"results\"][0][\"geometry\"][\"location\"][\"lat\"]\n",
    "        cities_df.loc[index, \"Lng\"] = cities_lat_lng[\"results\"][0][\"geometry\"][\"location\"][\"lng\"]\n",
    "        print \n",
    "    except (KeyError, IndexError):\n",
    "        print(\"Missing field/result... skipping.\")\n",
    "\n",
    "# Visualize to confirm lat lng appear\n",
    "cities_df.head()"
   ]
  },
  {
   "cell_type": "code",
   "execution_count": 73,
   "metadata": {},
   "outputs": [
    {
     "data": {
      "text/html": [
       "<div>\n",
       "<style scoped>\n",
       "    .dataframe tbody tr th:only-of-type {\n",
       "        vertical-align: middle;\n",
       "    }\n",
       "\n",
       "    .dataframe tbody tr th {\n",
       "        vertical-align: top;\n",
       "    }\n",
       "\n",
       "    .dataframe thead th {\n",
       "        text-align: right;\n",
       "    }\n",
       "</style>\n",
       "<table border=\"1\" class=\"dataframe\">\n",
       "  <thead>\n",
       "    <tr style=\"text-align: right;\">\n",
       "      <th></th>\n",
       "      <th>city</th>\n",
       "      <th>Lat</th>\n",
       "      <th>Lng</th>\n",
       "    </tr>\n",
       "  </thead>\n",
       "  <tbody>\n",
       "    <tr>\n",
       "      <th>0</th>\n",
       "      <td>manggar</td>\n",
       "      <td>-2.870315</td>\n",
       "      <td>108.279273</td>\n",
       "    </tr>\n",
       "    <tr>\n",
       "      <th>1</th>\n",
       "      <td>dakoro</td>\n",
       "      <td>14.508918</td>\n",
       "      <td>6.765460</td>\n",
       "    </tr>\n",
       "    <tr>\n",
       "      <th>2</th>\n",
       "      <td>azovo</td>\n",
       "      <td>54.704767</td>\n",
       "      <td>73.041044</td>\n",
       "    </tr>\n",
       "    <tr>\n",
       "      <th>3</th>\n",
       "      <td>san juan</td>\n",
       "      <td>38.665911</td>\n",
       "      <td>-121.285525</td>\n",
       "    </tr>\n",
       "    <tr>\n",
       "      <th>4</th>\n",
       "      <td>husavik</td>\n",
       "      <td>66.044971</td>\n",
       "      <td>-17.338344</td>\n",
       "    </tr>\n",
       "    <tr>\n",
       "      <th>...</th>\n",
       "      <td>...</td>\n",
       "      <td>...</td>\n",
       "      <td>...</td>\n",
       "    </tr>\n",
       "    <tr>\n",
       "      <th>603</th>\n",
       "      <td>najran</td>\n",
       "      <td>NaN</td>\n",
       "      <td>NaN</td>\n",
       "    </tr>\n",
       "    <tr>\n",
       "      <th>604</th>\n",
       "      <td>minot</td>\n",
       "      <td>NaN</td>\n",
       "      <td>NaN</td>\n",
       "    </tr>\n",
       "    <tr>\n",
       "      <th>605</th>\n",
       "      <td>penzance</td>\n",
       "      <td>NaN</td>\n",
       "      <td>NaN</td>\n",
       "    </tr>\n",
       "    <tr>\n",
       "      <th>606</th>\n",
       "      <td>brae</td>\n",
       "      <td>NaN</td>\n",
       "      <td>NaN</td>\n",
       "    </tr>\n",
       "    <tr>\n",
       "      <th>607</th>\n",
       "      <td>swanzey</td>\n",
       "      <td>NaN</td>\n",
       "      <td>NaN</td>\n",
       "    </tr>\n",
       "  </tbody>\n",
       "</table>\n",
       "<p>608 rows × 3 columns</p>\n",
       "</div>"
      ],
      "text/plain": [
       "         city        Lat         Lng\n",
       "0     manggar  -2.870315  108.279273\n",
       "1      dakoro  14.508918    6.765460\n",
       "2       azovo  54.704767   73.041044\n",
       "3    san juan  38.665911 -121.285525\n",
       "4     husavik  66.044971  -17.338344\n",
       "..        ...        ...         ...\n",
       "603    najran        NaN         NaN\n",
       "604     minot        NaN         NaN\n",
       "605  penzance        NaN         NaN\n",
       "606      brae        NaN         NaN\n",
       "607   swanzey        NaN         NaN\n",
       "\n",
       "[608 rows x 3 columns]"
      ]
     },
     "execution_count": 73,
     "metadata": {},
     "output_type": "execute_result"
    }
   ],
   "source": [
    "cities_df"
   ]
  },
  {
   "cell_type": "code",
   "execution_count": 84,
   "metadata": {},
   "outputs": [
    {
     "name": "stdout",
     "output_type": "stream",
     "text": [
      "Number = 0manggar\n",
      "Number = 1dakoro\n",
      "Number = 2azovo\n",
      "Number = 3san juan\n",
      "Number = 4husavik\n",
      "Number = 5farrukhnagar\n",
      "Number = 6bengkulu\n",
      "Number = 7mataura\n",
      "Number = 8port alfred\n",
      "Number = 9warrington\n",
      "Number = 10cape town\n",
      "Number = 11rikitea\n",
      "Number = 12sabang\n",
      "Number = 13karera\n",
      "Number = 14faya\n",
      "Number = 15zhangye\n",
      "Number = 16elk city\n",
      "Number = 17tairua\n",
      "Number = 18punta arenas\n",
      "Number = 19praya\n",
      "Number = 20hovd\n",
      "Number = 21ust-kulom\n",
      "Number = 22hobart\n",
      "Number = 23haines junction\n",
      "Number = 24busselton\n",
      "Number = 25mount gambier\n",
      "Number = 26ponta do sol\n",
      "Number = 27saint-philippe\n",
      "Number = 28ursulo galvan\n",
      "Number = 29santa fe\n",
      "Number = 30vaini\n",
      "Number = 31saskylakh\n",
      "Number = 32tsihombe\n",
      "Number = 33cidreira\n",
      "Number = 34dondo\n",
      "Number = 35talnakh\n",
      "Number = 36bredasdorp\n",
      "Number = 37margate\n",
      "Number = 38ushuaia\n",
      "Number = 39pevek\n",
      "Number = 40armidale\n",
      "Number = 41ribeira grande\n",
      "Number = 42shetpe\n",
      "Number = 43ahipara\n",
      "Number = 44mount pleasant\n",
      "Number = 45vaitape\n",
      "Number = 46amapa\n",
      "Missing field/result... skipping.\n",
      "Number = 48inongo\n",
      "Number = 49victoria\n",
      "Number = 50shimoda\n",
      "Number = 51mocuba\n",
      "Number = 52new norfolk\n",
      "Number = 53butaritari\n",
      "Number = 54atuona\n",
      "Number = 55portland\n",
      "Number = 56kapaa\n",
      "Number = 57namibe\n",
      "Number = 58avarua\n",
      "Number = 59hermanus\n",
      "Missing field/result... skipping.\n",
      "Number = 61olinda\n",
      "Number = 62albany\n",
      "Number = 63yellowknife\n",
      "Number = 64hilo\n",
      "Number = 65benton\n",
      "Number = 66the valley\n",
      "Number = 67mezen\n",
      "Number = 68tiksi\n",
      "Number = 69tumannyy\n",
      "Number = 70la ronge\n",
      "Number = 71suluq\n",
      "Number = 72saint george\n",
      "Number = 73popondetta\n",
      "Number = 74taolanaro\n",
      "Number = 75bethel\n",
      "Number = 76chokurdakh\n",
      "Number = 77waipawa\n",
      "Number = 78constitucion\n",
      "Number = 79sao joao da barra\n",
      "Number = 80mahibadhoo\n",
      "Number = 81port elizabeth\n",
      "Number = 82yangambi\n",
      "Number = 83sambava\n",
      "Number = 84mazatlan\n",
      "Number = 85gornopravdinsk\n",
      "Number = 86khatanga\n",
      "Number = 87sitka\n",
      "Number = 88kruisfontein\n",
      "Number = 89muros\n",
      "Number = 90mecca\n",
      "Number = 91lasa\n",
      "Number = 92ancud\n",
      "Number = 93thompson\n",
      "Missing field/result... skipping.\n",
      "Number = 95hanzhong\n",
      "Number = 96westport\n",
      "Number = 97ishigaki\n",
      "Number = 98monrovia\n",
      "Number = 99maputo\n",
      "Number = 100kununurra\n",
      "Number = 101tabiauea\n",
      "Number = 102atar\n",
      "Number = 103souillac\n",
      "Number = 104samarai\n",
      "Number = 105tuktoyaktuk\n",
      "Number = 106puerto ayora\n",
      "Number = 107necochea\n",
      "Number = 108kalmunai\n",
      "Number = 109aljezur\n",
      "Number = 110mar del plata\n",
      "Number = 111samusu\n",
      "Number = 112plettenberg bay\n",
      "Number = 113provideniya\n",
      "Number = 114nizwa\n",
      "Number = 115sechura\n",
      "Number = 116chermoz\n",
      "Number = 117esperance\n",
      "Number = 118dingle\n",
      "Number = 119tasiilaq\n",
      "Number = 120arraial do cabo\n",
      "Number = 121barentsburg\n",
      "Number = 122qaanaaq\n",
      "Number = 123walvis bay\n",
      "Number = 124luderitz\n",
      "Number = 125east london\n",
      "Number = 126puerto del rosario\n",
      "Number = 127kasese\n",
      "Number = 128bluff\n",
      "Number = 129bonnyville\n",
      "Number = 130paita\n",
      "Number = 131castro\n",
      "Number = 132san luis\n",
      "Number = 133gizo\n",
      "Number = 134sonoita\n",
      "Number = 135amderma\n",
      "Number = 136port-cartier\n",
      "Number = 137yulara\n",
      "Number = 138hami\n",
      "Number = 139codrington\n",
      "Number = 140renfrew\n",
      "Number = 141nome\n",
      "Number = 142barrow\n",
      "Number = 143te anau\n",
      "Number = 144barranca\n",
      "Number = 145grindavik\n",
      "Number = 146mys shmidta\n",
      "Number = 147betare oya\n",
      "Number = 148gat\n",
      "Number = 149illoqqortoormiut\n",
      "Number = 150belyy yar\n",
      "Number = 151georgetown\n",
      "Number = 152chicama\n",
      "Number = 153gujar khan\n",
      "Number = 154marawi\n",
      "Number = 155evensk\n",
      "Number = 156klaksvik\n",
      "Number = 157viljoenskroon\n",
      "Number = 158kodiak\n",
      "Number = 159krapivinskiy\n",
      "Number = 160banda aceh\n",
      "Number = 161verkhnevilyuysk\n",
      "Number = 162mulege\n",
      "Number = 163aquiraz\n",
      "Number = 164geraldton\n",
      "Number = 165namwala\n",
      "Number = 166vestmannaeyjar\n",
      "Number = 167kutum\n",
      "Number = 168usinsk\n",
      "Number = 169qazvin\n",
      "Number = 170leogane\n",
      "Number = 171keokuk\n",
      "Number = 172upernavik\n",
      "Number = 173sept-iles\n",
      "Number = 174padang\n",
      "Number = 175cayenne\n",
      "Number = 176ranghulu\n",
      "Number = 177lorengau\n",
      "Number = 178porto walter\n",
      "Number = 179dikson\n",
      "Missing field/result... skipping.\n",
      "Number = 181nishihara\n",
      "Number = 182jamestown\n",
      "Number = 183lavrentiya\n",
      "Number = 184kilimatinde\n",
      "Number = 185tarko-sale\n",
      "Number = 186boo\n",
      "Number = 187kysyl-syr\n",
      "Number = 188laguna\n",
      "Number = 189richards bay\n",
      "Number = 190ilhabela\n",
      "Number = 191severo-kurilsk\n",
      "Number = 192taldan\n",
      "Number = 193bambous virieux\n",
      "Number = 194tutoia\n",
      "Number = 195carnarvon\n",
      "Number = 196attawapiskat\n",
      "Number = 197taoudenni\n",
      "Number = 198cabo san lucas\n",
      "Number = 199wangqing\n",
      "Number = 200palabuhanratu\n",
      "Number = 201lagoa\n",
      "Number = 202mahebourg\n",
      "Number = 203torbay\n",
      "Number = 204yar-sale\n",
      "Number = 205hirara\n",
      "Number = 206rawson\n",
      "Missing field/result... skipping.\n",
      "Number = 208vestmanna\n",
      "Number = 209moose factory\n",
      "Number = 210xam nua\n",
      "Number = 211matara\n",
      "Number = 212ayagoz\n",
      "Number = 213koygorodok\n",
      "Number = 214college\n",
      "Number = 215caravelas\n",
      "Number = 216fort nelson\n",
      "Number = 217la concepcion\n",
      "Number = 218corumba\n",
      "Number = 219saleaula\n",
      "Number = 220verkhoyansk\n",
      "Number = 221tekeli\n",
      "Number = 222pangnirtung\n",
      "Number = 223ucluelet\n",
      "Number = 224puerto carreno\n",
      "Number = 225fairbanks\n",
      "Number = 226tual\n",
      "Number = 227saldanha\n",
      "Number = 228poum\n",
      "Number = 229longlac\n",
      "Number = 230fortuna\n",
      "Number = 231salalah\n",
      "Number = 232port lincoln\n",
      "Number = 233wageningen\n",
      "Number = 234chernyshevskiy\n",
      "Number = 235zlatoustovsk\n",
      "Number = 236djibo\n",
      "Number = 237san patricio\n",
      "Number = 238limoux\n",
      "Number = 239port keats\n",
      "Number = 240vasto\n",
      "Number = 241emerald\n",
      "Number = 242puyang\n",
      "Number = 243gangapur\n",
      "Number = 244hualmay\n",
      "Number = 245kaduqli\n",
      "Number = 246nemuro\n",
      "Number = 247faanui\n",
      "Number = 248iralaya\n",
      "Number = 249san quintin\n",
      "Number = 250lata\n",
      "Number = 251phan rang\n",
      "Number = 252shingu\n",
      "Number = 253ocean city\n",
      "Number = 254rybinsk\n",
      "Number = 255bin qirdan\n",
      "Number = 256mizdah\n",
      "Number = 257inta\n",
      "Number = 258kohlu\n",
      "Number = 259grand river south east\n",
      "Number = 260talaya\n",
      "Number = 261sampit\n",
      "Number = 262broome\n",
      "Number = 263ojinaga\n",
      "Number = 264ust-maya\n",
      "Number = 265chuy\n",
      "Number = 266provost\n",
      "Number = 267mullaitivu\n",
      "Number = 268susanville\n",
      "Number = 269kaitangata\n",
      "Number = 270pangai\n",
      "Number = 271yomitan\n",
      "Number = 272isangel\n",
      "Number = 273aras\n",
      "Number = 274palmer\n",
      "Number = 275cururupu\n",
      "Number = 276airai\n",
      "Number = 277broken hill\n",
      "Number = 278beni mazar\n",
      "Number = 279luanda\n",
      "Number = 280half moon bay\n",
      "Number = 281ponta delgada\n",
      "Number = 282chabahar\n",
      "Number = 283goderich\n",
      "Number = 284soligalich\n",
      "Number = 285pandan niog\n",
      "Number = 286cognac\n",
      "Number = 287ostrovnoy\n",
      "Number = 288jujuy\n",
      "Number = 289poltavka\n",
      "Number = 290tazmalt\n",
      "Number = 291almaznyy\n",
      "Number = 292thinadhoo\n",
      "Number = 293umzimvubu\n",
      "Number = 294villa carlos paz\n",
      "Number = 295sioux lookout\n",
      "Number = 296muzhi\n",
      "Number = 297grafton\n",
      "Number = 298urusha\n",
      "Number = 299illapel\n",
      "Number = 300usevya\n",
      "Number = 301longyearbyen\n",
      "Number = 302price\n",
      "Number = 303hamilton\n",
      "Number = 304soe\n",
      "Number = 305aginskoye\n",
      "Number = 306champerico\n",
      "Number = 307haicheng\n",
      "Number = 308alta floresta\n",
      "Number = 309sentyabrskiy\n",
      "Number = 310zabol\n",
      "Number = 311hofn\n",
      "Number = 312san miguel\n",
      "Number = 313olafsvik\n",
      "Number = 314khash\n",
      "Number = 315saint-augustin\n",
      "Number = 316chingirlau\n",
      "Number = 317guerrero negro\n",
      "Number = 318louisbourg\n",
      "Number = 319riviere-du-loup\n",
      "Number = 320santa maria do suacui\n",
      "Number = 321ilulissat\n",
      "Number = 322kenai\n",
      "Number = 323qui nhon\n",
      "Number = 324bacuit\n",
      "Number = 325fereydun kenar\n",
      "Number = 326clyde river\n",
      "Number = 327kirkwall\n",
      "Number = 328zyryanka\n",
      "Number = 329sorvag\n",
      "Number = 330huarmey\n",
      "Missing field/result... skipping.\n",
      "Number = 332kuche\n",
      "Number = 333great yarmouth\n",
      "Number = 334port shepstone\n",
      "Number = 335flinders\n",
      "Number = 336lompoc\n",
      "Number = 337tautira\n",
      "Number = 338kungurtug\n",
      "Number = 339hithadhoo\n",
      "Number = 340juneau\n",
      "Number = 341henties bay\n",
      "Number = 342la primavera\n",
      "Number = 343shu\n",
      "Number = 344crateus\n",
      "Number = 345catamarca\n",
      "Number = 346nanortalik\n",
      "Number = 347raudeberg\n",
      "Number = 348santiago del estero\n",
      "Number = 349leshukonskoye\n",
      "Number = 350cockburn town\n",
      "Number = 351oranjemund\n",
      "Number = 352tabou\n",
      "Number = 353zhuhai\n",
      "Number = 354nakonde\n",
      "Number = 355zhicheng\n",
      "Number = 356kasongo-lunda\n",
      "Number = 357karakendzha\n",
      "Number = 358staroaleyskoye\n",
      "Number = 359bonthe\n",
      "Number = 360lebu\n",
      "Number = 361praia da vitoria\n",
      "Number = 362coquimbo\n",
      "Number = 363kristiinankaupunki\n",
      "Number = 364vardo\n",
      "Number = 365salinas\n",
      "Number = 366aktash\n",
      "Number = 367kampot\n",
      "Number = 368yarada\n",
      "Number = 369lucea\n",
      "Number = 370rio grande\n",
      "Number = 371inyonga\n",
      "Number = 372narsaq\n",
      "Number = 373adelanto\n",
      "Number = 374potgietersrus\n",
      "Number = 375homer\n",
      "Number = 376zhigansk\n",
      "Number = 377barao de melgaco\n",
      "Number = 378tilichiki\n",
      "Number = 379puerto baquerizo moreno\n",
      "Number = 380nabinagar\n",
      "Number = 381pearl\n",
      "Number = 382san andres\n",
      "Number = 383ondjiva\n"
     ]
    },
    {
     "name": "stdout",
     "output_type": "stream",
     "text": [
      "Number = 384tarkwa\n",
      "Number = 385roald\n",
      "Number = 386bestobe\n",
      "Number = 387brownsville\n",
      "Number = 388el alto\n",
      "Missing field/result... skipping.\n",
      "Number = 390banjar\n",
      "Number = 391tura\n",
      "Number = 392thabazimbi\n",
      "Number = 393harrisonville\n",
      "Missing field/result... skipping.\n",
      "Number = 395kazachinskoye\n",
      "Number = 396hobyo\n",
      "Number = 397leh\n",
      "Number = 398egvekinot\n",
      "Number = 399zasheyek\n",
      "Number = 400amga\n",
      "Number = 401makakilo city\n",
      "Number = 402middelburg\n",
      "Number = 403taltal\n",
      "Number = 404marcona\n",
      "Number = 405longjiang\n",
      "Number = 406vanavara\n",
      "Number = 407hasaki\n",
      "Number = 408kawalu\n",
      "Number = 409mezhdurechensk\n",
      "Number = 410ikwiriri\n",
      "Number = 411vila franca do campo\n",
      "Number = 412voyvozh\n",
      "Number = 413orocue\n",
      "Number = 414tessalit\n",
      "Number = 415puri\n",
      "Number = 416port augusta\n",
      "Number = 417acarau\n",
      "Number = 418sug-aksy\n",
      "Number = 419outjo\n",
      "Number = 420miracema do tocantins\n",
      "Number = 421utete\n",
      "Number = 422porbandar\n",
      "Number = 423pierre\n",
      "Number = 424quatre cocos\n",
      "Number = 425asfi\n",
      "Number = 426meulaboh\n",
      "Number = 427zbarazh\n",
      "Number = 428tecoman\n",
      "Number = 429pingzhuang\n",
      "Number = 430belmonte\n",
      "Number = 431havelock\n",
      "Number = 432plouzane\n",
      "Number = 433bhum\n",
      "Number = 434san policarpo\n",
      "Number = 435saint-pierre\n",
      "Number = 436cherskiy\n",
      "Number = 437tamandare\n",
      "Number = 438paamiut\n",
      "Number = 439coihaique\n",
      "Number = 440kavieng\n",
      "Number = 441kabare\n",
      "Number = 442springfield\n",
      "Number = 443canby\n",
      "Number = 444converse\n",
      "Number = 445boralday\n",
      "Number = 446bima\n",
      "Number = 447bathsheba\n",
      "Number = 448san pedro de ycuamandiyu\n",
      "Number = 449requena\n",
      "Number = 450jacareacanga\n",
      "Number = 451copiapo\n",
      "Number = 452gladstone\n",
      "Number = 453ouesso\n",
      "Number = 454kandrian\n",
      "Number = 455changji\n",
      "Number = 456deputatskiy\n",
      "Number = 457acapulco\n",
      "Number = 458klyuchi\n",
      "Number = 459oistins\n",
      "Number = 460tuatapere\n",
      "Number = 461mount isa\n",
      "Number = 462tacuarembo\n",
      "Number = 463marsa matruh\n",
      "Number = 464peniche\n",
      "Number = 465esmeraldas\n",
      "Number = 466nyirbeltek\n",
      "Number = 467xuddur\n",
      "Number = 468christchurch\n",
      "Number = 469trofors\n",
      "Missing field/result... skipping.\n",
      "Number = 471mala danylivka\n",
      "Number = 472katsuura\n",
      "Number = 473lubao\n",
      "Number = 474antofagasta\n",
      "Number = 475burnie\n",
      "Number = 476harper\n",
      "Number = 477neuquen\n",
      "Number = 478duyun\n",
      "Number = 479vallenar\n",
      "Number = 480elbistan\n",
      "Number = 481ust-kuyga\n",
      "Number = 482tadepallegudem\n",
      "Number = 483lulea\n",
      "Number = 484akyab\n",
      "Number = 485luocheng\n",
      "Number = 486valparaiso\n",
      "Number = 487sibolga\n",
      "Number = 488north platte\n",
      "Number = 489vikhorevka\n",
      "Number = 490asau\n",
      "Number = 491daru\n",
      "Number = 492andenes\n",
      "Number = 493urubamba\n",
      "Number = 494bam\n",
      "Number = 495careiro da varzea\n",
      "Number = 496katherine\n",
      "Number = 497fonte boa\n",
      "Number = 498zacatepec\n",
      "Number = 499mayo\n",
      "Number = 500rio gallegos\n",
      "Number = 501mwanza\n",
      "Number = 502lakes entrance\n",
      "Number = 503nabire\n",
      "Number = 504hambantota\n",
      "Number = 505vila velha\n",
      "Number = 506tres rios\n",
      "Number = 507joshimath\n",
      "Number = 508udayagiri\n",
      "Number = 509flin flon\n",
      "Number = 510karratha\n",
      "Number = 511correntina\n",
      "Number = 512batagay\n",
      "Number = 513ngukurr\n",
      "Number = 514fushun\n",
      "Number = 515costinesti\n",
      "Number = 516namatanai\n",
      "Number = 517naze\n",
      "Number = 518machali\n",
      "Number = 519chapais\n",
      "Number = 520leningradskiy\n",
      "Number = 521korla\n",
      "Number = 522wanaka\n",
      "Number = 523rocha\n",
      "Number = 524sipe sipe\n",
      "Number = 525mbuji-mayi\n",
      "Number = 526saint-georges\n",
      "Number = 527lebedinyy\n",
      "Number = 528pahuatlan\n",
      "Number = 529carutapera\n",
      "Number = 530presidencia roque saenz pena\n",
      "Number = 531scottsboro\n",
      "Number = 532neiafu\n",
      "Number = 533manjacaze\n",
      "Number = 534witu\n",
      "Number = 535uk\n",
      "Number = 536alice springs\n",
      "Number = 537inuvik\n",
      "Number = 538prabumulih\n",
      "Number = 539praia\n",
      "Number = 540kibaha\n",
      "Number = 541tefe\n",
      "Number = 542barra da estiva\n",
      "Number = 543wajir\n",
      "Number = 544bonavista\n",
      "Number = 545maniitsoq\n",
      "Number = 546moranbah\n",
      "Number = 547cap-aux-meules\n",
      "Number = 548kiruna\n",
      "Number = 549ambilobe\n",
      "Number = 550el angel\n",
      "Number = 551havre-saint-pierre\n",
      "Number = 552zheleznodorozhnyy\n",
      "Number = 553obluche\n",
      "Number = 554bandundu\n",
      "Number = 555san cristobal\n",
      "Number = 556sur\n",
      "Number = 557sepatan\n",
      "Number = 558belogorsk\n",
      "Number = 559lima\n",
      "Number = 560kailua\n",
      "Number = 561pisco\n",
      "Number = 562susangerd\n",
      "Number = 563tisul\n",
      "Number = 564hue\n",
      "Number = 565guiyang\n",
      "Number = 566baykit\n",
      "Number = 567lashio\n",
      "Number = 568dalmatovo\n",
      "Number = 569las varas\n",
      "Number = 570tongzi\n",
      "Number = 571guarizama\n",
      "Number = 572guanica\n",
      "Number = 573laiyang\n",
      "Number = 574brokopondo\n",
      "Number = 575bayan\n",
      "Number = 576acari\n",
      "Number = 577sholokhove\n",
      "Number = 578gigmoto\n",
      "Number = 579pafos\n",
      "Number = 580peno\n",
      "Number = 581jimenez\n",
      "Number = 582viedma\n",
      "Number = 583at-bashi\n",
      "Number = 584high level\n",
      "Number = 585tanout\n",
      "Number = 586knysna\n",
      "Number = 587solnechnyy\n",
      "Number = 588aklavik\n",
      "Number = 589srandakan\n",
      "Number = 590mogadishu\n",
      "Number = 591senador guiomard\n",
      "Number = 592baiao\n",
      "Number = 593inawashiro\n",
      "Number = 594iqaluit\n",
      "Number = 595gorno-chuyskiy\n",
      "Number = 596vaitupu\n",
      "Number = 597bloomingdale\n",
      "Number = 598aleksinac\n",
      "Number = 599xichang\n",
      "Number = 600luang prabang\n",
      "Number = 601diego de almagro\n",
      "Number = 602lodja\n",
      "Number = 603najran\n",
      "Number = 604minot\n",
      "Number = 605penzance\n",
      "Number = 606brae\n",
      "Number = 607swanzey\n"
     ]
    },
    {
     "data": {
      "text/html": [
       "<div>\n",
       "<style scoped>\n",
       "    .dataframe tbody tr th:only-of-type {\n",
       "        vertical-align: middle;\n",
       "    }\n",
       "\n",
       "    .dataframe tbody tr th {\n",
       "        vertical-align: top;\n",
       "    }\n",
       "\n",
       "    .dataframe thead th {\n",
       "        text-align: right;\n",
       "    }\n",
       "</style>\n",
       "<table border=\"1\" class=\"dataframe\">\n",
       "  <thead>\n",
       "    <tr style=\"text-align: right;\">\n",
       "      <th></th>\n",
       "      <th>city</th>\n",
       "      <th>Lat</th>\n",
       "      <th>Lng</th>\n",
       "      <th>temp</th>\n",
       "      <th>hum</th>\n",
       "      <th>pres</th>\n",
       "      <th>cloud</th>\n",
       "      <th>wind</th>\n",
       "      <th>country</th>\n",
       "      <th>date</th>\n",
       "    </tr>\n",
       "  </thead>\n",
       "  <tbody>\n",
       "    <tr>\n",
       "      <th>0</th>\n",
       "      <td>manggar</td>\n",
       "      <td>-2.870315</td>\n",
       "      <td>108.279273</td>\n",
       "      <td>80.24</td>\n",
       "      <td>80.0</td>\n",
       "      <td>1008.0</td>\n",
       "      <td>98.0</td>\n",
       "      <td>13.06</td>\n",
       "      <td>ID</td>\n",
       "      <td>1.595890e+09</td>\n",
       "    </tr>\n",
       "    <tr>\n",
       "      <th>1</th>\n",
       "      <td>dakoro</td>\n",
       "      <td>14.508918</td>\n",
       "      <td>6.765460</td>\n",
       "      <td>82.20</td>\n",
       "      <td>62.0</td>\n",
       "      <td>1011.0</td>\n",
       "      <td>70.0</td>\n",
       "      <td>13.24</td>\n",
       "      <td>NE</td>\n",
       "      <td>1.595827e+09</td>\n",
       "    </tr>\n",
       "    <tr>\n",
       "      <th>2</th>\n",
       "      <td>azovo</td>\n",
       "      <td>54.704767</td>\n",
       "      <td>73.041044</td>\n",
       "      <td>60.80</td>\n",
       "      <td>63.0</td>\n",
       "      <td>1009.0</td>\n",
       "      <td>4.0</td>\n",
       "      <td>4.47</td>\n",
       "      <td>RU</td>\n",
       "      <td>1.595891e+09</td>\n",
       "    </tr>\n",
       "    <tr>\n",
       "      <th>3</th>\n",
       "      <td>san juan</td>\n",
       "      <td>38.665911</td>\n",
       "      <td>-121.285525</td>\n",
       "      <td>91.56</td>\n",
       "      <td>27.0</td>\n",
       "      <td>1010.0</td>\n",
       "      <td>1.0</td>\n",
       "      <td>6.93</td>\n",
       "      <td>US</td>\n",
       "      <td>1.595855e+09</td>\n",
       "    </tr>\n",
       "    <tr>\n",
       "      <th>4</th>\n",
       "      <td>husavik</td>\n",
       "      <td>66.044971</td>\n",
       "      <td>-17.338344</td>\n",
       "      <td>50.00</td>\n",
       "      <td>61.0</td>\n",
       "      <td>1012.0</td>\n",
       "      <td>40.0</td>\n",
       "      <td>14.99</td>\n",
       "      <td>IS</td>\n",
       "      <td>1.595821e+09</td>\n",
       "    </tr>\n",
       "  </tbody>\n",
       "</table>\n",
       "</div>"
      ],
      "text/plain": [
       "       city        Lat         Lng   temp   hum    pres  cloud   wind country  \\\n",
       "0   manggar  -2.870315  108.279273  80.24  80.0  1008.0   98.0  13.06      ID   \n",
       "1    dakoro  14.508918    6.765460  82.20  62.0  1011.0   70.0  13.24      NE   \n",
       "2     azovo  54.704767   73.041044  60.80  63.0  1009.0    4.0   4.47      RU   \n",
       "3  san juan  38.665911 -121.285525  91.56  27.0  1010.0    1.0   6.93      US   \n",
       "4   husavik  66.044971  -17.338344  50.00  61.0  1012.0   40.0  14.99      IS   \n",
       "\n",
       "           date  \n",
       "0  1.595890e+09  \n",
       "1  1.595827e+09  \n",
       "2  1.595891e+09  \n",
       "3  1.595855e+09  \n",
       "4  1.595821e+09  "
      ]
     },
     "execution_count": 84,
     "metadata": {},
     "output_type": "execute_result"
    }
   ],
   "source": [
    "params = {\n",
    "#     \"lat\": 40.12,\n",
    "#     \"lon\": 0,\n",
    "    \"units\":\"imperial\",\n",
    "    \"APPID\": weather_api_key\n",
    "}\n",
    "\n",
    "for index, row in cities_df.iterrows():\n",
    "    \n",
    "\n",
    "    # base_url = \"http://api.openweathermap.org/data/2.5/onecall/timemachine\"\n",
    "    base_url = \"http://api.openweathermap.org/data/2.5/weather\"\n",
    "    \n",
    "    lat = row['Lat']\n",
    "    lon = row['Lng']\n",
    "    \n",
    "    params[\"lat\"] = f\"{lat}\"\n",
    "    params['lon'] = f\"{lon}\"\n",
    "\n",
    "    weather_data = requests.get(base_url,params=params)\n",
    "\n",
    "    weather_data = weather_data.json()\n",
    "    \n",
    "    try:\n",
    "        cities_df.loc[index,\"temp\"] =weather_data[\"main\"][\"temp\"]\n",
    "        cities_df.loc[index,\"hum\"] = weather_data[\"main\"][\"humidity\"]\n",
    "        cities_df.loc[index,\"pres\"] = weather_data[\"main\"][\"pressure\"]\n",
    "        cities_df.loc[index,\"cloud\"] = weather_data[\"clouds\"][\"all\"]\n",
    "        cities_df.loc[index,\"wind\"] = weather_data[\"wind\"][\"speed\"]\n",
    "        cities_df.loc[index,\"country\"] = weather_data[\"sys\"][\"country\"]\n",
    "        cities_df.loc[index,\"date\"] = weather_data[\"sys\"][\"sunrise\"]\n",
    "        print(\"Number = \" + str(index) + cities_df.loc[index,\"city\"])\n",
    "    except (KeyError, IndexError):\n",
    "        print(\"Missing field/result... skipping.\")\n",
    "\n",
    "cities_df.head()\n",
    "\n",
    "        "
   ]
  },
  {
   "cell_type": "code",
   "execution_count": 93,
   "metadata": {},
   "outputs": [
    {
     "data": {
      "text/plain": [
       "city       599\n",
       "Lat        599\n",
       "Lng        599\n",
       "temp       599\n",
       "hum        599\n",
       "pres       599\n",
       "cloud      599\n",
       "wind       599\n",
       "country    599\n",
       "date       599\n",
       "dtype: int64"
      ]
     },
     "execution_count": 93,
     "metadata": {},
     "output_type": "execute_result"
    }
   ],
   "source": [
    "cities_df_drop = cities_df.dropna()\n"
   ]
  },
  {
   "cell_type": "markdown",
   "metadata": {},
   "source": [
    "### Convert Raw Data to DataFrame\n",
    "* Export the city data into a .csv.\n",
    "* Display the DataFrame"
   ]
  },
  {
   "cell_type": "code",
   "execution_count": 94,
   "metadata": {},
   "outputs": [
    {
     "data": {
      "text/plain": [
       "city       599\n",
       "Lat        599\n",
       "Lng        599\n",
       "temp       599\n",
       "hum        599\n",
       "pres       599\n",
       "cloud      599\n",
       "wind       599\n",
       "country    599\n",
       "date       599\n",
       "dtype: int64"
      ]
     },
     "execution_count": 94,
     "metadata": {},
     "output_type": "execute_result"
    }
   ],
   "source": [
    "cities_df_drop.to_csv(\"Cities_Weather_Data.csv\")\n",
    "cities_df_drop.count()"
   ]
  },
  {
   "cell_type": "markdown",
   "metadata": {},
   "source": [
    "## Inspect the data and remove the cities where the humidity > 100%.\n",
    "----\n",
    "Skip this step if there are no cities that have humidity > 100%. "
   ]
  },
  {
   "cell_type": "code",
   "execution_count": 6,
   "metadata": {},
   "outputs": [
    {
     "data": {
      "text/html": [
       "<div>\n",
       "<style scoped>\n",
       "    .dataframe tbody tr th:only-of-type {\n",
       "        vertical-align: middle;\n",
       "    }\n",
       "\n",
       "    .dataframe tbody tr th {\n",
       "        vertical-align: top;\n",
       "    }\n",
       "\n",
       "    .dataframe thead th {\n",
       "        text-align: right;\n",
       "    }\n",
       "</style>\n",
       "<table border=\"1\" class=\"dataframe\">\n",
       "  <thead>\n",
       "    <tr style=\"text-align: right;\">\n",
       "      <th></th>\n",
       "      <th>Lat</th>\n",
       "      <th>Lng</th>\n",
       "      <th>Max Temp</th>\n",
       "      <th>Humidity</th>\n",
       "      <th>Cloudiness</th>\n",
       "      <th>Wind Speed</th>\n",
       "      <th>Date</th>\n",
       "    </tr>\n",
       "  </thead>\n",
       "  <tbody>\n",
       "    <tr>\n",
       "      <th>count</th>\n",
       "      <td>550.000000</td>\n",
       "      <td>550.000000</td>\n",
       "      <td>550.000000</td>\n",
       "      <td>550.000000</td>\n",
       "      <td>550.000000</td>\n",
       "      <td>550.000000</td>\n",
       "      <td>5.500000e+02</td>\n",
       "    </tr>\n",
       "    <tr>\n",
       "      <th>mean</th>\n",
       "      <td>19.973545</td>\n",
       "      <td>17.124400</td>\n",
       "      <td>58.331400</td>\n",
       "      <td>67.890909</td>\n",
       "      <td>52.141818</td>\n",
       "      <td>8.544800</td>\n",
       "      <td>1.585764e+09</td>\n",
       "    </tr>\n",
       "    <tr>\n",
       "      <th>std</th>\n",
       "      <td>33.284840</td>\n",
       "      <td>91.595451</td>\n",
       "      <td>25.795297</td>\n",
       "      <td>20.864881</td>\n",
       "      <td>35.766469</td>\n",
       "      <td>6.078869</td>\n",
       "      <td>5.539674e+01</td>\n",
       "    </tr>\n",
       "    <tr>\n",
       "      <th>min</th>\n",
       "      <td>-54.800000</td>\n",
       "      <td>-179.170000</td>\n",
       "      <td>-11.340000</td>\n",
       "      <td>9.000000</td>\n",
       "      <td>0.000000</td>\n",
       "      <td>0.160000</td>\n",
       "      <td>1.585764e+09</td>\n",
       "    </tr>\n",
       "    <tr>\n",
       "      <th>25%</th>\n",
       "      <td>-8.077500</td>\n",
       "      <td>-64.627500</td>\n",
       "      <td>42.800000</td>\n",
       "      <td>55.000000</td>\n",
       "      <td>20.000000</td>\n",
       "      <td>4.525000</td>\n",
       "      <td>1.585764e+09</td>\n",
       "    </tr>\n",
       "    <tr>\n",
       "      <th>50%</th>\n",
       "      <td>23.630000</td>\n",
       "      <td>19.635000</td>\n",
       "      <td>64.940000</td>\n",
       "      <td>72.000000</td>\n",
       "      <td>57.000000</td>\n",
       "      <td>7.325000</td>\n",
       "      <td>1.585764e+09</td>\n",
       "    </tr>\n",
       "    <tr>\n",
       "      <th>75%</th>\n",
       "      <td>48.672500</td>\n",
       "      <td>97.350000</td>\n",
       "      <td>78.800000</td>\n",
       "      <td>83.000000</td>\n",
       "      <td>86.750000</td>\n",
       "      <td>11.410000</td>\n",
       "      <td>1.585764e+09</td>\n",
       "    </tr>\n",
       "    <tr>\n",
       "      <th>max</th>\n",
       "      <td>78.220000</td>\n",
       "      <td>179.320000</td>\n",
       "      <td>102.200000</td>\n",
       "      <td>100.000000</td>\n",
       "      <td>100.000000</td>\n",
       "      <td>46.080000</td>\n",
       "      <td>1.585764e+09</td>\n",
       "    </tr>\n",
       "  </tbody>\n",
       "</table>\n",
       "</div>"
      ],
      "text/plain": [
       "              Lat         Lng    Max Temp    Humidity  Cloudiness  Wind Speed  \\\n",
       "count  550.000000  550.000000  550.000000  550.000000  550.000000  550.000000   \n",
       "mean    19.973545   17.124400   58.331400   67.890909   52.141818    8.544800   \n",
       "std     33.284840   91.595451   25.795297   20.864881   35.766469    6.078869   \n",
       "min    -54.800000 -179.170000  -11.340000    9.000000    0.000000    0.160000   \n",
       "25%     -8.077500  -64.627500   42.800000   55.000000   20.000000    4.525000   \n",
       "50%     23.630000   19.635000   64.940000   72.000000   57.000000    7.325000   \n",
       "75%     48.672500   97.350000   78.800000   83.000000   86.750000   11.410000   \n",
       "max     78.220000  179.320000  102.200000  100.000000  100.000000   46.080000   \n",
       "\n",
       "               Date  \n",
       "count  5.500000e+02  \n",
       "mean   1.585764e+09  \n",
       "std    5.539674e+01  \n",
       "min    1.585764e+09  \n",
       "25%    1.585764e+09  \n",
       "50%    1.585764e+09  \n",
       "75%    1.585764e+09  \n",
       "max    1.585764e+09  "
      ]
     },
     "execution_count": 6,
     "metadata": {},
     "output_type": "execute_result"
    }
   ],
   "source": []
  },
  {
   "cell_type": "code",
   "execution_count": 97,
   "metadata": {},
   "outputs": [
    {
     "data": {
      "text/plain": [
       "city       599\n",
       "Lat        599\n",
       "Lng        599\n",
       "temp       599\n",
       "hum        599\n",
       "pres       599\n",
       "cloud      599\n",
       "wind       599\n",
       "country    599\n",
       "date       599\n",
       "dtype: int64"
      ]
     },
     "execution_count": 97,
     "metadata": {},
     "output_type": "execute_result"
    }
   ],
   "source": [
    "#  Get the indices of cities that have humidity over 100%.\n",
    "cities_df_drop[cities_df_drop['hum']<=100].count()\n"
   ]
  },
  {
   "cell_type": "code",
   "execution_count": 8,
   "metadata": {},
   "outputs": [
    {
     "data": {
      "text/html": [
       "<div>\n",
       "<style scoped>\n",
       "    .dataframe tbody tr th:only-of-type {\n",
       "        vertical-align: middle;\n",
       "    }\n",
       "\n",
       "    .dataframe tbody tr th {\n",
       "        vertical-align: top;\n",
       "    }\n",
       "\n",
       "    .dataframe thead th {\n",
       "        text-align: right;\n",
       "    }\n",
       "</style>\n",
       "<table border=\"1\" class=\"dataframe\">\n",
       "  <thead>\n",
       "    <tr style=\"text-align: right;\">\n",
       "      <th></th>\n",
       "      <th>City</th>\n",
       "      <th>Lat</th>\n",
       "      <th>Lng</th>\n",
       "      <th>Max Temp</th>\n",
       "      <th>Humidity</th>\n",
       "      <th>Cloudiness</th>\n",
       "      <th>Wind Speed</th>\n",
       "      <th>Country</th>\n",
       "      <th>Date</th>\n",
       "    </tr>\n",
       "  </thead>\n",
       "  <tbody>\n",
       "    <tr>\n",
       "      <th>0</th>\n",
       "      <td>pimentel</td>\n",
       "      <td>-6.84</td>\n",
       "      <td>-79.93</td>\n",
       "      <td>66.20</td>\n",
       "      <td>29</td>\n",
       "      <td>75</td>\n",
       "      <td>5.82</td>\n",
       "      <td>PE</td>\n",
       "      <td>1585764415</td>\n",
       "    </tr>\n",
       "    <tr>\n",
       "      <th>1</th>\n",
       "      <td>victoria</td>\n",
       "      <td>22.29</td>\n",
       "      <td>114.16</td>\n",
       "      <td>69.01</td>\n",
       "      <td>88</td>\n",
       "      <td>40</td>\n",
       "      <td>18.34</td>\n",
       "      <td>HK</td>\n",
       "      <td>1585764288</td>\n",
       "    </tr>\n",
       "    <tr>\n",
       "      <th>2</th>\n",
       "      <td>padang</td>\n",
       "      <td>-0.95</td>\n",
       "      <td>100.35</td>\n",
       "      <td>79.90</td>\n",
       "      <td>75</td>\n",
       "      <td>99</td>\n",
       "      <td>1.63</td>\n",
       "      <td>ID</td>\n",
       "      <td>1585764115</td>\n",
       "    </tr>\n",
       "    <tr>\n",
       "      <th>3</th>\n",
       "      <td>hasaki</td>\n",
       "      <td>35.73</td>\n",
       "      <td>140.83</td>\n",
       "      <td>55.00</td>\n",
       "      <td>100</td>\n",
       "      <td>75</td>\n",
       "      <td>4.70</td>\n",
       "      <td>JP</td>\n",
       "      <td>1585764415</td>\n",
       "    </tr>\n",
       "    <tr>\n",
       "      <th>4</th>\n",
       "      <td>kahului</td>\n",
       "      <td>20.89</td>\n",
       "      <td>-156.47</td>\n",
       "      <td>70.00</td>\n",
       "      <td>88</td>\n",
       "      <td>1</td>\n",
       "      <td>7.63</td>\n",
       "      <td>US</td>\n",
       "      <td>1585764415</td>\n",
       "    </tr>\n",
       "  </tbody>\n",
       "</table>\n",
       "</div>"
      ],
      "text/plain": [
       "       City    Lat     Lng  Max Temp  Humidity  Cloudiness  Wind Speed  \\\n",
       "0  pimentel  -6.84  -79.93     66.20        29          75        5.82   \n",
       "1  victoria  22.29  114.16     69.01        88          40       18.34   \n",
       "2    padang  -0.95  100.35     79.90        75          99        1.63   \n",
       "3    hasaki  35.73  140.83     55.00       100          75        4.70   \n",
       "4   kahului  20.89 -156.47     70.00        88           1        7.63   \n",
       "\n",
       "  Country        Date  \n",
       "0      PE  1585764415  \n",
       "1      HK  1585764288  \n",
       "2      ID  1585764115  \n",
       "3      JP  1585764415  \n",
       "4      US  1585764415  "
      ]
     },
     "execution_count": 8,
     "metadata": {},
     "output_type": "execute_result"
    }
   ],
   "source": [
    "# Make a new DataFrame equal to the city data to drop all humidity outliers by index.\n",
    "# Passing \"inplace=False\" will make a copy of the city_data DataFrame, which we call \"clean_city_data\".\n"
   ]
  },
  {
   "cell_type": "code",
   "execution_count": 9,
   "metadata": {},
   "outputs": [],
   "source": [
    "# Extract relevant fields from the data frame\n",
    "\n",
    "\n",
    "# Export the City_Data into a csv\n"
   ]
  },
  {
   "cell_type": "markdown",
   "metadata": {},
   "source": [
    "## Plotting the Data\n",
    "* Use proper labeling of the plots using plot titles (including date of analysis) and axes labels.\n",
    "* Save the plotted figures as .pngs."
   ]
  },
  {
   "cell_type": "markdown",
   "metadata": {},
   "source": [
    "## Latitude vs. Temperature Plot"
   ]
  },
  {
   "cell_type": "code",
   "execution_count": 101,
   "metadata": {
    "scrolled": true
   },
   "outputs": [
    {
     "data": {
      "text/plain": [
       "Text(0.5, 1.0, 'City Latitude vs. Temp')"
      ]
     },
     "execution_count": 101,
     "metadata": {},
     "output_type": "execute_result"
    },
    {
     "data": {
      "image/png": "[encoded data removed]",
      "text/plain": [
       "<Figure size 432x288 with 1 Axes>"
      ]
     },
     "metadata": {
      "needs_background": "light"
     },
     "output_type": "display_data"
    }
   ],
   "source": [
    "plt.scatter(cities_df_drop['Lat'],cities_df_drop['temp'])\n",
    "plt.ylabel(\"Temp (F)\")\n",
    "plt.xlabel(\"Latitude\")\n",
    "plt.title(\"City Latitude vs. Temp\")\n",
    "\n",
    "# This plot shows that temperatures are higher towards the equator and lower towards the poles."
   ]
  },
  {
   "cell_type": "markdown",
   "metadata": {},
   "source": [
    "## Latitude vs. Humidity Plot"
   ]
  },
  {
   "cell_type": "code",
   "execution_count": 102,
   "metadata": {
    "scrolled": true
   },
   "outputs": [
    {
     "data": {
      "text/plain": [
       "Text(0.5, 1.0, 'City Latitude vs. Humidity')"
      ]
     },
     "execution_count": 102,
     "metadata": {},
     "output_type": "execute_result"
    },
    {
     "data": {
      "image/png": "[encoded data removed]",
      "text/plain": [
       "<Figure size 432x288 with 1 Axes>"
      ]
     },
     "metadata": {
      "needs_background": "light"
     },
     "output_type": "display_data"
    }
   ],
   "source": [
    "plt.scatter(cities_df_drop['Lat'],cities_df_drop['hum'])\n",
    "plt.ylabel(\"Humidity (%)\")\n",
    "plt.xlabel(\"Latitude\")\n",
    "plt.title(\"City Latitude vs. Humidity\")\n",
    "\n",
    "# In general the data looks highly variable, but it does appear \n",
    "# Humidity near the equator looks to be more concentrated between 70-90%.  "
   ]
  },
  {
   "cell_type": "markdown",
   "metadata": {},
   "source": [
    "## Latitude vs. Cloudiness Plot"
   ]
  },
  {
   "cell_type": "code",
   "execution_count": 103,
   "metadata": {},
   "outputs": [
    {
     "data": {
      "text/plain": [
       "Text(0.5, 1.0, 'City Latitude vs. Cloudiness')"
      ]
     },
     "execution_count": 103,
     "metadata": {},
     "output_type": "execute_result"
    },
    {
     "data": {
      "image/png": "[encoded data removed]",
      "text/plain": [
       "<Figure size 432x288 with 1 Axes>"
      ]
     },
     "metadata": {
      "needs_background": "light"
     },
     "output_type": "display_data"
    }
   ],
   "source": [
    "plt.scatter(cities_df_drop['Lat'],cities_df_drop['cloud'])\n",
    "plt.ylabel(\"Cloudiness (%)\")\n",
    "plt.xlabel(\"Latitude\")\n",
    "plt.title(\"City Latitude vs. Cloudiness\")\n",
    "\n",
    "# There appears to be no correlation between latitude and cloudiness.\n",
    "# The data does not appear to be very precise because most of the data points are in lines at 0, 20, 40, 75, and 100"
   ]
  },
  {
   "cell_type": "markdown",
   "metadata": {},
   "source": [
    "## Latitude vs. Wind Speed Plot"
   ]
  },
  {
   "cell_type": "code",
   "execution_count": 104,
   "metadata": {},
   "outputs": [
    {
     "data": {
      "text/plain": [
       "Text(0.5, 1.0, 'City Latitude vs. Wind Speed')"
      ]
     },
     "execution_count": 104,
     "metadata": {},
     "output_type": "execute_result"
    },
    {
     "data": {
      "image/png": "[encoded data removed]",
      "text/plain": [
       "<Figure size 432x288 with 1 Axes>"
      ]
     },
     "metadata": {
      "needs_background": "light"
     },
     "output_type": "display_data"
    }
   ],
   "source": [
    "plt.scatter(cities_df_drop['Lat'],cities_df_drop['wind'])\n",
    "plt.ylabel(\"Wind Speed (mph))\")\n",
    "plt.xlabel(\"Latitude\")\n",
    "plt.title(\"City Latitude vs. Wind Speed\")\n",
    "\n",
    "# Wind speed and latitude appear to have no correlation"
   ]
  },
  {
   "cell_type": "markdown",
   "metadata": {},
   "source": [
    "## Linear Regression"
   ]
  },
  {
   "cell_type": "code",
   "execution_count": 130,
   "metadata": {},
   "outputs": [],
   "source": [
    "# OPTIONAL: Create a function to create Linear Regression plots\n",
    "def trendline(x,y):\n",
    "    import scipy.stats as st\n",
    "    slope, inter, r, p, std_err = st.linregress(x,y)\n",
    "    fit = slope * x + inter\n",
    "    plt.plot(x,fit,\"--r\",label=\"y = \"+ str(round(slope,2)) + \"x + \"+ str(round(inter,1))+', r = ' + str(round(r,2)))\n",
    "    plt.legend()\n",
    "    "
   ]
  },
  {
   "cell_type": "code",
   "execution_count": 132,
   "metadata": {},
   "outputs": [],
   "source": [
    "# Create Northern and Southern Hemisphere DataFrames\n",
    "north_hem_cities_df_drop= cities_df_drop[cities_df_drop['Lat']>0]\n",
    "south_hem_cities_df_drop=cities_df_drop[cities_df_drop['Lat']<0]"
   ]
  },
  {
   "cell_type": "markdown",
   "metadata": {},
   "source": [
    "####  Northern Hemisphere - Max Temp vs. Latitude Linear Regression"
   ]
  },
  {
   "cell_type": "code",
   "execution_count": 134,
   "metadata": {},
   "outputs": [
    {
     "data": {
      "image/png": "[encoded data removed]",
      "text/plain": [
       "<Figure size 432x288 with 1 Axes>"
      ]
     },
     "metadata": {
      "needs_background": "light"
     },
     "output_type": "display_data"
    }
   ],
   "source": [
    "plt.scatter(north_hem_cities_df_drop['Lat'],north_hem_cities_df_drop['temp'])\n",
    "plt.ylabel(\"Temp (F)\")\n",
    "plt.xlabel(\"Latitude\")\n",
    "plt.title(\"Northern Hem Latitude vs. Temp\")\n",
    "trendline(north_hem_cities_df_drop['Lat'],north_hem_cities_df_drop['temp'])"
   ]
  },
  {
   "cell_type": "markdown",
   "metadata": {},
   "source": [
    "####  Southern Hemisphere - Max Temp vs. Latitude Linear Regression"
   ]
  },
  {
   "cell_type": "code",
   "execution_count": 135,
   "metadata": {},
   "outputs": [
    {
     "data": {
      "image/png": "[encoded data removed]",
      "text/plain": [
       "<Figure size 432x288 with 1 Axes>"
      ]
     },
     "metadata": {
      "needs_background": "light"
     },
     "output_type": "display_data"
    }
   ],
   "source": [
    "plt.scatter(south_hem_cities_df_drop['Lat'],south_hem_cities_df_drop['temp'])\n",
    "plt.ylabel(\"Temp (F)\")\n",
    "plt.xlabel(\"Latitude\")\n",
    "plt.title(\"Southern Hem Latitude vs. Temp\")\n",
    "trendline(south_hem_cities_df_drop['Lat'],south_hem_cities_df_drop['temp'])\n",
    "\n",
    "# These plots show there is a good correlation between latitude and Temp"
   ]
  },
  {
   "cell_type": "markdown",
   "metadata": {},
   "source": [
    "####  Northern Hemisphere - Humidity (%) vs. Latitude Linear Regression"
   ]
  },
  {
   "cell_type": "code",
   "execution_count": 136,
   "metadata": {},
   "outputs": [
    {
     "data": {
      "image/png": "[encoded data removed]",
      "text/plain": [
       "<Figure size 432x288 with 1 Axes>"
      ]
     },
     "metadata": {
      "needs_background": "light"
     },
     "output_type": "display_data"
    }
   ],
   "source": [
    "plt.scatter(north_hem_cities_df_drop['Lat'],north_hem_cities_df_drop['hum'])\n",
    "plt.ylabel(\"Humidity(%)\")\n",
    "plt.xlabel(\"Latitude\")\n",
    "plt.title(\"Northern Hem Latitude vs. Humidity\")\n",
    "trendline(north_hem_cities_df_drop['Lat'],north_hem_cities_df_drop['hum'])"
   ]
  },
  {
   "cell_type": "markdown",
   "metadata": {},
   "source": [
    "####  Southern Hemisphere - Humidity (%) vs. Latitude Linear Regression"
   ]
  },
  {
   "cell_type": "code",
   "execution_count": 137,
   "metadata": {},
   "outputs": [
    {
     "data": {
      "image/png": "[encoded data removed]",
      "text/plain": [
       "<Figure size 432x288 with 1 Axes>"
      ]
     },
     "metadata": {
      "needs_background": "light"
     },
     "output_type": "display_data"
    }
   ],
   "source": [
    "plt.scatter(south_hem_cities_df_drop['Lat'],south_hem_cities_df_drop['hum'])\n",
    "plt.ylabel(\"Humidity(%)\")\n",
    "plt.xlabel(\"Latitude\")\n",
    "plt.title(\"southern Hem Latitude vs. Humidity\")\n",
    "trendline(south_hem_cities_df_drop['Lat'],south_hem_cities_df_drop['hum'])\n",
    "\n",
    "# Humidity has no correlation to latitude.  Humidity is more dependent on elevation."
   ]
  },
  {
   "cell_type": "markdown",
   "metadata": {},
   "source": [
    "####  Northern Hemisphere - Cloudiness (%) vs. Latitude Linear Regression"
   ]
  },
  {
   "cell_type": "code",
   "execution_count": 139,
   "metadata": {},
   "outputs": [
    {
     "data": {
      "image/png": "[encoded data removed]",
      "text/plain": [
       "<Figure size 432x288 with 1 Axes>"
      ]
     },
     "metadata": {
      "needs_background": "light"
     },
     "output_type": "display_data"
    }
   ],
   "source": [
    "plt.scatter(north_hem_cities_df_drop['Lat'],north_hem_cities_df_drop['cloud'])\n",
    "plt.ylabel(\"Cloudiness(%)\")\n",
    "plt.xlabel(\"Latitude\")\n",
    "plt.title(\"Northern Hem Latitude vs. Cloudiness\")\n",
    "trendline(north_hem_cities_df_drop['Lat'],north_hem_cities_df_drop['cloud'])"
   ]
  },
  {
   "cell_type": "markdown",
   "metadata": {},
   "source": [
    "####  Southern Hemisphere - Cloudiness (%) vs. Latitude Linear Regression"
   ]
  },
  {
   "cell_type": "code",
   "execution_count": 140,
   "metadata": {},
   "outputs": [
    {
     "data": {
      "image/png": "[encoded data removed]",
      "text/plain": [
       "<Figure size 432x288 with 1 Axes>"
      ]
     },
     "metadata": {
      "needs_background": "light"
     },
     "output_type": "display_data"
    }
   ],
   "source": [
    "plt.scatter(south_hem_cities_df_drop['Lat'],south_hem_cities_df_drop['cloud'])\n",
    "plt.ylabel(\"Cloudiness(%)\")\n",
    "plt.xlabel(\"Latitude\")\n",
    "plt.title(\"southern Hem Latitude vs. Cloudiness\")\n",
    "trendline(south_hem_cities_df_drop['Lat'],south_hem_cities_df_drop['cloud'])\n",
    "\n",
    "# Cloudiness has not coreelation to latitude.  There are a significant amount of variables that effect Cloudiness\n",
    "# making a bivariate analysis inadequate "
   ]
  },
  {
   "cell_type": "markdown",
   "metadata": {},
   "source": [
    "####  Northern Hemisphere - Wind Speed (mph) vs. Latitude Linear Regression"
   ]
  },
  {
   "cell_type": "code",
   "execution_count": 141,
   "metadata": {},
   "outputs": [
    {
     "data": {
      "image/png": "[encoded data removed]",
      "text/plain": [
       "<Figure size 432x288 with 1 Axes>"
      ]
     },
     "metadata": {
      "needs_background": "light"
     },
     "output_type": "display_data"
    }
   ],
   "source": [
    "plt.scatter(north_hem_cities_df_drop['Lat'],north_hem_cities_df_drop['wind'])\n",
    "plt.ylabel(\"Wind Speed (mph)\")\n",
    "plt.xlabel(\"Latitude\")\n",
    "plt.title(\"Northern Hem Latitude vs. Wind Speed\")\n",
    "trendline(north_hem_cities_df_drop['Lat'],north_hem_cities_df_drop['wind'])"
   ]
  },
  {
   "cell_type": "markdown",
   "metadata": {},
   "source": [
    "####  Southern Hemisphere - Wind Speed (mph) vs. Latitude Linear Regression"
   ]
  },
  {
   "cell_type": "code",
   "execution_count": 23,
   "metadata": {},
   "outputs": [
    {
     "name": "stdout",
     "output_type": "stream",
     "text": [
      "The r-squared is: 0.03381889207758188\n"
     ]
    },
    {
     "data": {
      "image/png": "[encoded data removed]",
      "text/plain": [
       "<Figure size 432x288 with 1 Axes>"
      ]
     },
     "metadata": {
      "needs_background": "light"
     },
     "output_type": "display_data"
    }
   ],
   "source": [
    "plt.scatter(south_hem_cities_df_drop['Lat'],south_hem_cities_df_drop['wind'])\n",
    "plt.ylabel(\"Wind Speed (mph)\")\n",
    "plt.xlabel(\"Latitude\")\n",
    "plt.title(\"southern Hem Latitude vs. Wind Speed\")\n",
    "trendline(south_hem_cities_df_drop['Lat'],south_hem_cities_df_drop['wind'])\n",
    "\n",
    "# Wind speed has no correlation with latitudes.  Wind also has a high number of variables that \n",
    "# that make bivariate analysis inadequate"
   ]
  },
  {
   "cell_type": "code",
   "execution_count": null,
   "metadata": {},
   "outputs": [],
   "source": []
  }
 ],
 "metadata": {
  "anaconda-cloud": {},
  "kernel_info": {
   "name": "python3"
  },
  "kernelspec": {
   "display_name": "Python 3",
   "language": "python",
   "name": "python3"
  },
  "language_info": {
   "codemirror_mode": {
    "name": "ipython",
    "version": 3
   },
   "file_extension": ".py",
   "mimetype": "text/x-python",
   "name": "python",
   "nbconvert_exporter": "python",
   "pygments_lexer": "ipython3",
   "version": "3.7.6"
  },
  "latex_envs": {
   "LaTeX_envs_menu_present": true,
   "autoclose": false,
   "autocomplete": true,
   "bibliofile": "biblio.bib",
   "cite_by": "apalike",
   "current_citInitial": 1,
   "eqLabelWithNumbers": true,
   "eqNumInitial": 1,
   "hotkeys": {
    "equation": "Ctrl-E",
    "itemize": "Ctrl-I"
   },
   "labels_anchors": false,
   "latex_user_defs": false,
   "report_style_numbering": false,
   "user_envs_cfg": false
  },
  "nteract": {
   "version": "0.12.3"
  }
 },
 "nbformat": 4,
 "nbformat_minor": 2
}
