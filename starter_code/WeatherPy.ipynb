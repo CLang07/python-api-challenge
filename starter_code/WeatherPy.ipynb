{
 "cells": [
  {
   "cell_type": "markdown",
   "metadata": {},
   "source": [
    "# WeatherPy\n",
    "----\n",
    "\n",
    "#### Note\n",
    "* Instructions have been included for each segment. You do not have to follow them exactly, but they are included to help you think through the steps."
   ]
  },
  {
   "cell_type": "code",
   "execution_count": 2,
   "metadata": {
    "scrolled": true
   },
   "outputs": [],
   "source": [
    "# Dependencies and Setup\n",
    "import matplotlib.pyplot as plt\n",
    "import pandas as pd\n",
    "import numpy as np\n",
    "import requests\n",
    "import time\n",
    "from scipy.stats import linregress\n",
    "\n",
    "# Import API key\n",
    "from api_keys import weather_api_key\n",
    "from api_keys import g_key\n",
    "\n",
    "# Incorporated citipy to determine city based on latitude and longitude\n",
    "from citipy import citipy\n",
    "\n",
    "# Output File (CSV)\n",
    "output_data_file = \"output_data/cities.csv\"\n",
    "\n",
    "# Range of latitudes and longitudes\n",
    "lat_range = (-90, 90)\n",
    "lng_range = (-180, 180)"
   ]
  },
  {
   "cell_type": "markdown",
   "metadata": {},
   "source": [
    "## Generate Cities List"
   ]
  },
  {
   "cell_type": "code",
   "execution_count": 3,
   "metadata": {
    "scrolled": true
   },
   "outputs": [
    {
     "data": {
      "text/html": [
       "<div>\n",
       "<style scoped>\n",
       "    .dataframe tbody tr th:only-of-type {\n",
       "        vertical-align: middle;\n",
       "    }\n",
       "\n",
       "    .dataframe tbody tr th {\n",
       "        vertical-align: top;\n",
       "    }\n",
       "\n",
       "    .dataframe thead th {\n",
       "        text-align: right;\n",
       "    }\n",
       "</style>\n",
       "<table border=\"1\" class=\"dataframe\">\n",
       "  <thead>\n",
       "    <tr style=\"text-align: right;\">\n",
       "      <th></th>\n",
       "      <th>city</th>\n",
       "    </tr>\n",
       "  </thead>\n",
       "  <tbody>\n",
       "    <tr>\n",
       "      <th>0</th>\n",
       "      <td>aklavik</td>\n",
       "    </tr>\n",
       "    <tr>\n",
       "      <th>1</th>\n",
       "      <td>punta arenas</td>\n",
       "    </tr>\n",
       "    <tr>\n",
       "      <th>2</th>\n",
       "      <td>rikitea</td>\n",
       "    </tr>\n",
       "    <tr>\n",
       "      <th>3</th>\n",
       "      <td>ushuaia</td>\n",
       "    </tr>\n",
       "    <tr>\n",
       "      <th>4</th>\n",
       "      <td>teguise</td>\n",
       "    </tr>\n",
       "  </tbody>\n",
       "</table>\n",
       "</div>"
      ],
      "text/plain": [
       "           city\n",
       "0       aklavik\n",
       "1  punta arenas\n",
       "2       rikitea\n",
       "3       ushuaia\n",
       "4       teguise"
      ]
     },
     "execution_count": 3,
     "metadata": {},
     "output_type": "execute_result"
    }
   ],
   "source": [
    "# List for holding lat_lngs and cities\n",
    "lat_lngs = []\n",
    "cities = []\n",
    "\n",
    "# Create a set of random lat and lng combinations\n",
    "lats = np.random.uniform(lat_range[0], lat_range[1], size=1500)\n",
    "lngs = np.random.uniform(lng_range[0], lng_range[1], size=1500)\n",
    "lat_lngs = zip(lats, lngs)\n",
    "\n",
    "# Identify nearest city for each lat, lng combination\n",
    "for lat_lng in lat_lngs:\n",
    "    city = citipy.nearest_city(lat_lng[0], lat_lng[1]).city_name\n",
    "    \n",
    "    # If the city is unique, then add it to a our cities list\n",
    "    if city not in cities:\n",
    "        cities.append(city)\n",
    "\n",
    "# Print the city count to confirm sufficient count\n",
    "len(cities)\n",
    "# lat_data_df = pd.DataFrame({'lats':lats,})\n",
    "# lat_data_df = lat_data_df[:10]\n",
    "cities_df = pd.DataFrame({'city':cities})\n",
    "cities_df.head()"
   ]
  },
  {
   "cell_type": "markdown",
   "metadata": {},
   "source": [
    "### Perform API Calls\n",
    "* Perform a weather check on each city using a series of successive API calls.\n",
    "* Include a print log of each city as it'sbeing processed (with the city number and city name).\n"
   ]
  },
  {
   "cell_type": "code",
   "execution_count": 5,
   "metadata": {},
   "outputs": [
    {
     "name": "stdout",
     "output_type": "stream",
     "text": [
      "Missing field/result... skipping.\n",
      "Missing field/result... skipping.\n",
      "Missing field/result... skipping.\n",
      "Missing field/result... skipping.\n",
      "Missing field/result... skipping.\n",
      "Missing field/result... skipping.\n",
      "Missing field/result... skipping.\n"
     ]
    },
    {
     "data": {
      "text/html": [
       "<div>\n",
       "<style scoped>\n",
       "    .dataframe tbody tr th:only-of-type {\n",
       "        vertical-align: middle;\n",
       "    }\n",
       "\n",
       "    .dataframe tbody tr th {\n",
       "        vertical-align: top;\n",
       "    }\n",
       "\n",
       "    .dataframe thead th {\n",
       "        text-align: right;\n",
       "    }\n",
       "</style>\n",
       "<table border=\"1\" class=\"dataframe\">\n",
       "  <thead>\n",
       "    <tr style=\"text-align: right;\">\n",
       "      <th></th>\n",
       "      <th>city</th>\n",
       "      <th>Lat</th>\n",
       "      <th>Lng</th>\n",
       "    </tr>\n",
       "  </thead>\n",
       "  <tbody>\n",
       "    <tr>\n",
       "      <th>0</th>\n",
       "      <td>aklavik</td>\n",
       "      <td>68.219916</td>\n",
       "      <td>-135.007788</td>\n",
       "    </tr>\n",
       "    <tr>\n",
       "      <th>1</th>\n",
       "      <td>punta arenas</td>\n",
       "      <td>-53.163833</td>\n",
       "      <td>-70.917068</td>\n",
       "    </tr>\n",
       "    <tr>\n",
       "      <th>2</th>\n",
       "      <td>rikitea</td>\n",
       "      <td>-23.122303</td>\n",
       "      <td>-134.969154</td>\n",
       "    </tr>\n",
       "    <tr>\n",
       "      <th>3</th>\n",
       "      <td>ushuaia</td>\n",
       "      <td>-54.801912</td>\n",
       "      <td>-68.302951</td>\n",
       "    </tr>\n",
       "    <tr>\n",
       "      <th>4</th>\n",
       "      <td>teguise</td>\n",
       "      <td>29.072052</td>\n",
       "      <td>-13.566830</td>\n",
       "    </tr>\n",
       "  </tbody>\n",
       "</table>\n",
       "</div>"
      ],
      "text/plain": [
       "           city        Lat         Lng\n",
       "0       aklavik  68.219916 -135.007788\n",
       "1  punta arenas -53.163833  -70.917068\n",
       "2       rikitea -23.122303 -134.969154\n",
       "3       ushuaia -54.801912  -68.302951\n",
       "4       teguise  29.072052  -13.566830"
      ]
     },
     "execution_count": 5,
     "metadata": {},
     "output_type": "execute_result"
    }
   ],
   "source": [
    "params = {\"key\": g_key}\n",
    "\n",
    "# Loop through the cities_df and run a lat/long search for each city\n",
    "for index, row in cities_df.iterrows():\n",
    "    base_url = \"https://maps.googleapis.com/maps/api/geocode/json\"\n",
    "\n",
    "    city = row['city']\n",
    "#     state = row['State']\n",
    "\n",
    "    # udfate address key value\n",
    "    params['address'] = f\"{city}\"\n",
    "\n",
    "    # make request\n",
    "    cities_lat_lng = requests.get(base_url, params=params)\n",
    "    \n",
    "    # print the cities_lat_lng url, avoid doing for public github repos in order to avoid exposing key\n",
    "    # print(cities_lat_lng.url)\n",
    "    \n",
    "    # convert to json\n",
    "    cities_lat_lng = cities_lat_lng.json()\n",
    "    \n",
    "    try:\n",
    "        cities_df.loc[index, \"Lat\"] = cities_lat_lng[\"results\"][0][\"geometry\"][\"location\"][\"lat\"]\n",
    "        cities_df.loc[index, \"Lng\"] = cities_lat_lng[\"results\"][0][\"geometry\"][\"location\"][\"lng\"]\n",
    "        print \n",
    "    except (KeyError, IndexError):\n",
    "        print(\"Missing field/result... skipping.\")\n",
    "\n",
    "# Visualize to confirm lat lng appear\n",
    "cities_df.head()"
   ]
  },
  {
   "cell_type": "code",
   "execution_count": 7,
   "metadata": {},
   "outputs": [
    {
     "data": {
      "text/html": [
       "<div>\n",
       "<style scoped>\n",
       "    .dataframe tbody tr th:only-of-type {\n",
       "        vertical-align: middle;\n",
       "    }\n",
       "\n",
       "    .dataframe tbody tr th {\n",
       "        vertical-align: top;\n",
       "    }\n",
       "\n",
       "    .dataframe thead th {\n",
       "        text-align: right;\n",
       "    }\n",
       "</style>\n",
       "<table border=\"1\" class=\"dataframe\">\n",
       "  <thead>\n",
       "    <tr style=\"text-align: right;\">\n",
       "      <th></th>\n",
       "      <th>city</th>\n",
       "      <th>Lat</th>\n",
       "      <th>Lng</th>\n",
       "    </tr>\n",
       "  </thead>\n",
       "  <tbody>\n",
       "    <tr>\n",
       "      <th>0</th>\n",
       "      <td>aklavik</td>\n",
       "      <td>68.219916</td>\n",
       "      <td>-135.007788</td>\n",
       "    </tr>\n",
       "    <tr>\n",
       "      <th>1</th>\n",
       "      <td>punta arenas</td>\n",
       "      <td>-53.163833</td>\n",
       "      <td>-70.917068</td>\n",
       "    </tr>\n",
       "    <tr>\n",
       "      <th>2</th>\n",
       "      <td>rikitea</td>\n",
       "      <td>-23.122303</td>\n",
       "      <td>-134.969154</td>\n",
       "    </tr>\n",
       "    <tr>\n",
       "      <th>3</th>\n",
       "      <td>ushuaia</td>\n",
       "      <td>-54.801912</td>\n",
       "      <td>-68.302951</td>\n",
       "    </tr>\n",
       "    <tr>\n",
       "      <th>4</th>\n",
       "      <td>teguise</td>\n",
       "      <td>29.072052</td>\n",
       "      <td>-13.566830</td>\n",
       "    </tr>\n",
       "    <tr>\n",
       "      <th>...</th>\n",
       "      <td>...</td>\n",
       "      <td>...</td>\n",
       "      <td>...</td>\n",
       "    </tr>\n",
       "    <tr>\n",
       "      <th>591</th>\n",
       "      <td>garachine</td>\n",
       "      <td>8.031769</td>\n",
       "      <td>-78.315941</td>\n",
       "    </tr>\n",
       "    <tr>\n",
       "      <th>592</th>\n",
       "      <td>ugoofaaru</td>\n",
       "      <td>5.667588</td>\n",
       "      <td>73.030197</td>\n",
       "    </tr>\n",
       "    <tr>\n",
       "      <th>593</th>\n",
       "      <td>atambua</td>\n",
       "      <td>-9.101629</td>\n",
       "      <td>124.912066</td>\n",
       "    </tr>\n",
       "    <tr>\n",
       "      <th>594</th>\n",
       "      <td>samana</td>\n",
       "      <td>19.203076</td>\n",
       "      <td>-69.338766</td>\n",
       "    </tr>\n",
       "    <tr>\n",
       "      <th>595</th>\n",
       "      <td>kampot</td>\n",
       "      <td>10.594242</td>\n",
       "      <td>104.164035</td>\n",
       "    </tr>\n",
       "  </tbody>\n",
       "</table>\n",
       "<p>596 rows × 3 columns</p>\n",
       "</div>"
      ],
      "text/plain": [
       "             city        Lat         Lng\n",
       "0         aklavik  68.219916 -135.007788\n",
       "1    punta arenas -53.163833  -70.917068\n",
       "2         rikitea -23.122303 -134.969154\n",
       "3         ushuaia -54.801912  -68.302951\n",
       "4         teguise  29.072052  -13.566830\n",
       "..            ...        ...         ...\n",
       "591     garachine   8.031769  -78.315941\n",
       "592     ugoofaaru   5.667588   73.030197\n",
       "593       atambua  -9.101629  124.912066\n",
       "594        samana  19.203076  -69.338766\n",
       "595        kampot  10.594242  104.164035\n",
       "\n",
       "[596 rows x 3 columns]"
      ]
     },
     "execution_count": 7,
     "metadata": {},
     "output_type": "execute_result"
    }
   ],
   "source": [
    "cities_df"
   ]
  },
  {
   "cell_type": "code",
   "execution_count": 22,
   "metadata": {},
   "outputs": [
    {
     "name": "stdout",
     "output_type": "stream",
     "text": [
      "record = 1, set = 1 | aklavik\n",
      "record = 2, set = 1 | punta arenas\n",
      "record = 3, set = 1 | rikitea\n",
      "record = 4, set = 1 | ushuaia\n",
      "record = 5, set = 1 | teguise\n",
      "record = 6, set = 1 | chuy\n",
      "record = 7, set = 1 | cap malheureux\n",
      "record = 8, set = 1 | hermanus\n",
      "record = 9, set = 1 | pechenga\n",
      "record = 10, set = 1 | srednekolymsk\n",
      "Missing field/result... skipping.\n",
      "record = 11, set = 1 | isla mujeres\n",
      "record = 12, set = 1 | srivardhan\n",
      "record = 13, set = 1 | clyde river\n",
      "record = 14, set = 1 | port alfred\n",
      "record = 15, set = 1 | nizhneyansk\n",
      "record = 16, set = 1 | hambantota\n",
      "record = 17, set = 1 | karauzyak\n",
      "record = 18, set = 1 | barrow\n",
      "record = 19, set = 1 | grand river south east\n",
      "record = 20, set = 1 | ahipara\n",
      "record = 21, set = 1 | isangel\n",
      "record = 22, set = 1 | ketchikan\n",
      "record = 23, set = 1 | hilo\n",
      "record = 24, set = 1 | upernavik\n",
      "record = 25, set = 1 | jimma\n",
      "record = 26, set = 1 | vuktyl\n",
      "record = 27, set = 1 | vaini\n",
      "record = 28, set = 1 | cidreira\n",
      "record = 29, set = 1 | bredasdorp\n",
      "record = 30, set = 1 | jamestown\n",
      "record = 31, set = 1 | boa vista\n",
      "record = 32, set = 1 | ancud\n",
      "record = 33, set = 1 | baie-saint-paul\n",
      "record = 34, set = 1 | mahebourg\n",
      "record = 35, set = 1 | dikson\n",
      "record = 36, set = 1 | kysyl-syr\n",
      "record = 37, set = 1 | kieta\n",
      "record = 38, set = 1 | tuktoyaktuk\n",
      "record = 39, set = 1 | mount gambier\n",
      "record = 40, set = 1 | baghdad\n",
      "record = 41, set = 1 | cape town\n",
      "record = 42, set = 1 | chokurdakh\n",
      "record = 43, set = 1 | uige\n",
      "record = 44, set = 1 | cumaribo\n",
      "record = 45, set = 1 | thompson\n",
      "record = 46, set = 1 | broken hill\n",
      "record = 47, set = 1 | east london\n",
      "record = 48, set = 1 | humaita\n",
      "record = 49, set = 1 | qaanaaq\n",
      "record = 50, set = 1 | albany\n",
      "record = 1, set = 2 | taolanaro\n",
      "record = 2, set = 2 | bermeo\n",
      "record = 3, set = 2 | samusu\n",
      "record = 4, set = 2 | illoqqortoormiut\n",
      "record = 5, set = 2 | palabuhanratu\n",
      "record = 6, set = 2 | bluff\n",
      "record = 7, set = 2 | hobyo\n",
      "record = 8, set = 2 | kapaa\n",
      "record = 9, set = 2 | karaul\n",
      "record = 10, set = 2 | atuona\n",
      "record = 11, set = 2 | mar del plata\n",
      "record = 12, set = 2 | phuket\n",
      "record = 13, set = 2 | hithadhoo\n",
      "record = 14, set = 2 | bonavista\n",
      "record = 15, set = 2 | ilulissat\n",
      "record = 16, set = 2 | hobart\n",
      "record = 17, set = 2 | grindavik\n",
      "record = 18, set = 2 | halifax\n",
      "record = 19, set = 2 | puerto ayora\n",
      "record = 20, set = 2 | avarua\n",
      "record = 21, set = 2 | kudahuvadhoo\n",
      "record = 22, set = 2 | goderich\n",
      "record = 23, set = 2 | riyadh\n",
      "record = 24, set = 2 | kavieng\n",
      "record = 25, set = 2 | saskylakh\n",
      "record = 26, set = 2 | constitucion\n",
      "record = 27, set = 2 | busselton\n",
      "record = 28, set = 2 | wingham\n",
      "record = 29, set = 2 | wilmington\n",
      "record = 30, set = 2 | provideniya\n",
      "record = 31, set = 2 | saint-philippe\n",
      "record = 32, set = 2 | klaksvik\n",
      "record = 33, set = 2 | beringovskiy\n",
      "record = 34, set = 2 | severo-kurilsk\n",
      "record = 35, set = 2 | ossora\n",
      "record = 36, set = 2 | te anau\n",
      "record = 37, set = 2 | rio brilhante\n",
      "record = 38, set = 2 | tuytepa\n",
      "record = 39, set = 2 | krasnoselkup\n",
      "record = 40, set = 2 | jinka\n",
      "record = 41, set = 2 | shenjiamen\n",
      "record = 42, set = 2 | shache\n",
      "record = 43, set = 2 | kargil\n",
      "record = 44, set = 2 | roma\n",
      "record = 45, set = 2 | butaritari\n",
      "record = 46, set = 2 | barentsburg\n",
      "record = 47, set = 2 | del rio\n",
      "record = 48, set = 2 | osoyoos\n",
      "record = 49, set = 2 | kidal\n",
      "record = 50, set = 2 | calabozo\n",
      "record = 1, set = 3 | itinga\n",
      "record = 2, set = 3 | khatanga\n",
      "record = 3, set = 3 | tsihombe\n",
      "record = 4, set = 3 | new norfolk\n",
      "record = 5, set = 3 | chilliwack\n",
      "record = 6, set = 3 | aguimes\n",
      "record = 7, set = 3 | santiago del estero\n",
      "record = 8, set = 3 | barbar\n",
      "record = 9, set = 3 | xushan\n",
      "record = 10, set = 3 | leh\n",
      "record = 11, set = 3 | mataura\n",
      "record = 12, set = 3 | kortkeros\n",
      "record = 13, set = 3 | grafton\n",
      "record = 14, set = 3 | bethel\n",
      "record = 15, set = 3 | zhuanghe\n",
      "record = 16, set = 3 | utiroa\n",
      "record = 17, set = 3 | sitka\n",
      "record = 18, set = 3 | axim\n",
      "record = 19, set = 3 | lorengau\n",
      "record = 20, set = 3 | sorvag\n",
      "record = 21, set = 3 | cabo san lucas\n",
      "record = 22, set = 3 | san cristobal\n",
      "Missing field/result... skipping.\n",
      "record = 23, set = 3 | port elizabeth\n",
      "record = 24, set = 3 | chingirlau\n",
      "Missing field/result... skipping.\n",
      "record = 25, set = 3 | svetlaya\n",
      "record = 26, set = 3 | lebu\n",
      "record = 27, set = 3 | rawson\n",
      "record = 28, set = 3 | sawtell\n",
      "record = 29, set = 3 | arraial do cabo\n",
      "record = 30, set = 3 | aksarka\n",
      "record = 31, set = 3 | ribeira grande\n",
      "record = 32, set = 3 | aquidauana\n",
      "record = 33, set = 3 | geraldton\n",
      "record = 34, set = 3 | fairbanks\n",
      "record = 35, set = 3 | sinnamary\n",
      "record = 36, set = 3 | kruisfontein\n",
      "record = 37, set = 3 | burnie\n",
      "record = 38, set = 3 | vytegra\n",
      "record = 39, set = 3 | sembakung\n",
      "record = 40, set = 3 | arlit\n",
      "record = 41, set = 3 | amderma\n",
      "record = 42, set = 3 | rio cuarto\n",
      "record = 43, set = 3 | bambous virieux\n",
      "record = 44, set = 3 | sao filipe\n",
      "record = 45, set = 3 | california city\n",
      "record = 46, set = 3 | bandarbeyla\n",
      "record = 47, set = 3 | high rock\n",
      "record = 48, set = 3 | wolfsburg\n",
      "record = 49, set = 3 | sinegorye\n",
      "record = 50, set = 3 | vanimo\n",
      "record = 1, set = 4 | mys shmidta\n",
      "record = 2, set = 4 | georgetown\n",
      "record = 3, set = 4 | santa maria la alta\n",
      "record = 4, set = 4 | saldanha\n",
      "record = 5, set = 4 | ponta do sol\n",
      "record = 6, set = 4 | bubaque\n",
      "record = 7, set = 4 | roald\n",
      "record = 8, set = 4 | poronaysk\n",
      "record = 9, set = 4 | muros\n",
      "record = 10, set = 4 | kargasok\n",
      "record = 11, set = 4 | bukama\n",
      "record = 12, set = 4 | tiksi\n",
      "record = 13, set = 4 | yulara\n",
      "record = 14, set = 4 | muisne\n",
      "record = 15, set = 4 | ginda\n",
      "record = 16, set = 4 | yellowknife\n",
      "record = 17, set = 4 | manado\n",
      "record = 18, set = 4 | kaitangata\n",
      "record = 19, set = 4 | padang\n",
      "record = 20, set = 4 | szabadszallas\n",
      "record = 21, set = 4 | sibolga\n",
      "record = 22, set = 4 | muzhi\n",
      "record = 23, set = 4 | ilo\n",
      "record = 24, set = 4 | santiago de cuba\n",
      "record = 25, set = 4 | grand gaube\n",
      "record = 26, set = 4 | pahrump\n",
      "record = 27, set = 4 | richards bay\n",
      "record = 28, set = 4 | qaqortoq\n",
      "record = 29, set = 4 | gizo\n",
      "record = 30, set = 4 | kahului\n",
      "record = 31, set = 4 | tarudant\n",
      "record = 32, set = 4 | castro\n",
      "record = 33, set = 4 | port hedland\n",
      "record = 34, set = 4 | chastoozerye\n",
      "record = 35, set = 4 | korla\n",
      "record = 36, set = 4 | pevek\n",
      "record = 37, set = 4 | tiarei\n",
      "record = 38, set = 4 | lichinga\n",
      "record = 39, set = 4 | macaboboni\n",
      "record = 40, set = 4 | shingu\n",
      "record = 41, set = 4 | dingle\n",
      "record = 42, set = 4 | longyearbyen\n",
      "record = 43, set = 4 | saint george\n",
      "record = 44, set = 4 | russell\n",
      "record = 45, set = 4 | bathsheba\n",
      "record = 46, set = 4 | sur\n",
      "record = 47, set = 4 | rio claro\n",
      "record = 48, set = 4 | bol\n",
      "record = 49, set = 4 | chake chake\n",
      "record = 50, set = 4 | wattegama\n",
      "record = 1, set = 5 | yacuiba\n",
      "record = 2, set = 5 | general roca\n",
      "record = 3, set = 5 | codrington\n",
      "record = 4, set = 5 | baruun-urt\n",
      "record = 5, set = 5 | hobbs\n",
      "record = 6, set = 5 | prestea\n",
      "record = 7, set = 5 | katsuura\n",
      "record = 8, set = 5 | tugulym\n",
      "record = 9, set = 5 | sentyabrskiy\n",
      "record = 10, set = 5 | saleaula\n",
      "record = 11, set = 5 | los llanos de aridane\n",
      "record = 12, set = 5 | adrar\n",
      "record = 13, set = 5 | ixtapa\n",
      "record = 14, set = 5 | boda\n",
      "record = 15, set = 5 | marawi\n",
      "record = 16, set = 5 | kinshasa\n",
      "record = 17, set = 5 | la libertad\n",
      "record = 18, set = 5 | le port\n",
      "record = 19, set = 5 | souillac\n",
      "record = 20, set = 5 | alta floresta\n",
      "record = 21, set = 5 | petatlan\n",
      "record = 22, set = 5 | lagunas\n",
      "record = 23, set = 5 | nome\n",
      "record = 24, set = 5 | kalakamati\n",
      "record = 25, set = 5 | west wendover\n",
      "record = 26, set = 5 | benito soliven\n",
      "Missing field/result... skipping.\n",
      "record = 27, set = 5 | novikovo\n",
      "record = 28, set = 5 | saint-augustin\n",
      "record = 29, set = 5 | baillif\n",
      "record = 30, set = 5 | walvis bay\n",
      "record = 31, set = 5 | mayumba\n",
      "record = 32, set = 5 | rungata\n",
      "record = 33, set = 5 | cozumel\n",
      "record = 34, set = 5 | igrim\n",
      "record = 35, set = 5 | pisco\n",
      "record = 36, set = 5 | montauban\n",
      "record = 37, set = 5 | oranjemund\n",
      "record = 38, set = 5 | boyuibe\n",
      "record = 39, set = 5 | nanortalik\n",
      "record = 40, set = 5 | bengkulu\n",
      "record = 41, set = 5 | flinders\n",
      "record = 42, set = 5 | kodiak\n",
      "record = 43, set = 5 | nuuk\n",
      "record = 44, set = 5 | ranfurly\n",
      "record = 45, set = 5 | tigre\n",
      "record = 46, set = 5 | amapa\n",
      "record = 47, set = 5 | lompoc\n",
      "record = 48, set = 5 | texarkana\n",
      "record = 49, set = 5 | naze\n",
      "record = 50, set = 5 | huimanguillo\n",
      "record = 1, set = 6 | talnakh\n"
     ]
    },
    {
     "name": "stdout",
     "output_type": "stream",
     "text": [
      "record = 2, set = 6 | cherskiy\n",
      "record = 3, set = 6 | coihaique\n",
      "record = 4, set = 6 | nemuro\n",
      "record = 5, set = 6 | gambela\n",
      "record = 6, set = 6 | okato\n",
      "record = 7, set = 6 | yar-sale\n",
      "record = 8, set = 6 | leninskoye\n",
      "record = 9, set = 6 | carnarvon\n",
      "record = 10, set = 6 | hofn\n",
      "record = 11, set = 6 | verkhnyaya inta\n",
      "record = 12, set = 6 | coquimbo\n",
      "record = 13, set = 6 | college\n",
      "record = 14, set = 6 | taoudenni\n",
      "record = 15, set = 6 | paramonga\n",
      "record = 16, set = 6 | qixingtai\n",
      "record = 17, set = 6 | xuanzhou\n",
      "record = 18, set = 6 | cockburn town\n",
      "record = 19, set = 6 | tautira\n",
      "record = 20, set = 6 | bilma\n",
      "record = 21, set = 6 | attawapiskat\n",
      "record = 22, set = 6 | pingliang\n",
      "record = 23, set = 6 | tawnat\n",
      "record = 24, set = 6 | kapoeta\n",
      "record = 25, set = 6 | laytown\n",
      "record = 26, set = 6 | agirish\n",
      "record = 27, set = 6 | mrirt\n",
      "record = 28, set = 6 | salo\n",
      "record = 29, set = 6 | meyungs\n",
      "record = 30, set = 6 | jiuquan\n",
      "record = 31, set = 6 | belawan\n",
      "record = 32, set = 6 | tabiauea\n",
      "Missing field/result... skipping.\n",
      "record = 33, set = 6 | altay\n",
      "record = 34, set = 6 | zhigansk\n",
      "record = 35, set = 6 | portobelo\n",
      "record = 36, set = 6 | boueni\n",
      "record = 37, set = 6 | avera\n",
      "record = 38, set = 6 | dhidhdhoo\n",
      "record = 39, set = 6 | bogomila\n",
      "record = 40, set = 6 | blythe\n",
      "record = 41, set = 6 | catuday\n",
      "record = 42, set = 6 | narsaq\n",
      "record = 43, set = 6 | honiara\n",
      "record = 44, set = 6 | payo\n",
      "record = 45, set = 6 | manoel urbano\n",
      "record = 46, set = 6 | aykhal\n",
      "record = 47, set = 6 | dharchula\n",
      "record = 48, set = 6 | vilyuysk\n",
      "record = 49, set = 6 | chanika\n",
      "record = 50, set = 6 | norman wells\n",
      "record = 1, set = 7 | humberto de campos\n",
      "record = 2, set = 7 | fushun\n",
      "record = 3, set = 7 | nhulunbuy\n",
      "record = 4, set = 7 | homer\n",
      "record = 5, set = 7 | atherton\n",
      "record = 6, set = 7 | camacha\n",
      "record = 7, set = 7 | pacific grove\n",
      "record = 8, set = 7 | torbay\n",
      "record = 9, set = 7 | tres arroyos\n",
      "record = 10, set = 7 | sechura\n",
      "record = 11, set = 7 | pitimbu\n",
      "record = 12, set = 7 | kamenka\n",
      "record = 13, set = 7 | granada\n",
      "record = 14, set = 7 | corner brook\n",
      "record = 15, set = 7 | victoria\n",
      "record = 16, set = 7 | rizhao\n",
      "record = 17, set = 7 | riverton\n",
      "record = 18, set = 7 | yerbogachen\n",
      "record = 19, set = 7 | tahoua\n",
      "record = 20, set = 7 | longlac\n",
      "record = 21, set = 7 | sale\n",
      "record = 22, set = 7 | urdoma\n",
      "record = 23, set = 7 | makakilo city\n",
      "record = 24, set = 7 | fort nelson\n",
      "record = 25, set = 7 | houston\n",
      "record = 26, set = 7 | taunggyi\n",
      "record = 27, set = 7 | saint-joseph\n",
      "record = 28, set = 7 | ayan\n",
      "record = 29, set = 7 | ahuimanu\n",
      "record = 30, set = 7 | north bend\n",
      "record = 31, set = 7 | kalmar\n",
      "record = 32, set = 7 | vila velha\n",
      "record = 33, set = 7 | jiexiu\n",
      "record = 34, set = 7 | sharlyk\n",
      "record = 35, set = 7 | buraydah\n",
      "record = 36, set = 7 | tilsonburg\n",
      "record = 37, set = 7 | poum\n",
      "record = 38, set = 7 | tevaitoa\n",
      "record = 39, set = 7 | havre-saint-pierre\n",
      "record = 40, set = 7 | comarapa\n",
      "record = 41, set = 7 | ngukurr\n",
      "record = 42, set = 7 | polson\n",
      "record = 43, set = 7 | dongsheng\n",
      "record = 44, set = 7 | wonthaggi\n",
      "record = 45, set = 7 | hamilton\n",
      "record = 46, set = 7 | half moon bay\n",
      "record = 47, set = 7 | pizarro\n",
      "record = 48, set = 7 | maiduguri\n",
      "record = 49, set = 7 | matata\n",
      "record = 50, set = 7 | xining\n",
      "record = 1, set = 8 | manicore\n",
      "record = 2, set = 8 | belmonte\n",
      "record = 3, set = 8 | arona\n",
      "record = 4, set = 8 | solnechnyy\n",
      "record = 5, set = 8 | semey\n",
      "record = 6, set = 8 | bismarck\n",
      "record = 7, set = 8 | moerai\n",
      "record = 8, set = 8 | pueblo bello\n",
      "record = 9, set = 8 | togur\n",
      "record = 10, set = 8 | mujiayingzi\n",
      "record = 11, set = 8 | margate\n",
      "record = 12, set = 8 | raga\n",
      "record = 13, set = 8 | chapais\n",
      "record = 14, set = 8 | tigil\n",
      "record = 15, set = 8 | inyonga\n",
      "record = 16, set = 8 | bechem\n",
      "record = 17, set = 8 | asyut\n",
      "record = 18, set = 8 | tanshui\n",
      "Missing field/result... skipping.\n",
      "record = 19, set = 8 | barranca\n",
      "record = 20, set = 8 | el carmen\n",
      "record = 21, set = 8 | faanui\n",
      "record = 22, set = 8 | tual\n",
      "record = 23, set = 8 | high prairie\n",
      "record = 24, set = 8 | lisa\n",
      "record = 25, set = 8 | catacamas\n",
      "record = 26, set = 8 | malwan\n",
      "record = 27, set = 8 | zhangjiakou\n",
      "record = 28, set = 8 | airai\n",
      "record = 29, set = 8 | lara\n",
      "record = 30, set = 8 | bac lieu\n",
      "record = 31, set = 8 | monrovia\n",
      "record = 32, set = 8 | kadykchan\n",
      "record = 33, set = 8 | hostotipaquillo\n",
      "record = 34, set = 8 | aksu\n",
      "record = 35, set = 8 | urengoy\n",
      "record = 36, set = 8 | batagay-alyta\n",
      "record = 37, set = 8 | bollnas\n",
      "record = 38, set = 8 | velyka oleksandrivka\n",
      "record = 39, set = 8 | smirnykh\n",
      "record = 40, set = 8 | maragogi\n",
      "record = 41, set = 8 | yelanskiy\n",
      "record = 42, set = 8 | ulcinj\n",
      "record = 43, set = 8 | nyurba\n",
      "record = 44, set = 8 | zunyi\n",
      "record = 45, set = 8 | moose factory\n",
      "record = 46, set = 8 | tayshet\n",
      "record = 47, set = 8 | sioux lookout\n",
      "record = 48, set = 8 | husavik\n",
      "record = 49, set = 8 | tukrah\n",
      "record = 50, set = 8 | poykovskiy\n",
      "record = 1, set = 9 | barra dos coqueiros\n",
      "record = 2, set = 9 | ahmadpur east\n",
      "record = 3, set = 9 | sarkand\n",
      "Missing field/result... skipping.\n",
      "record = 4, set = 9 | esperance\n",
      "record = 5, set = 9 | oksfjord\n",
      "record = 6, set = 9 | rincon\n",
      "record = 7, set = 9 | abha\n",
      "record = 8, set = 9 | campeche\n",
      "record = 9, set = 9 | labuhan\n",
      "record = 10, set = 9 | oktyabrskiy\n",
      "record = 11, set = 9 | prince rupert\n",
      "record = 12, set = 9 | kirovskiy\n",
      "record = 13, set = 9 | atar\n",
      "record = 14, set = 9 | chokwe\n",
      "record = 15, set = 9 | daru\n",
      "record = 16, set = 9 | caravelas\n",
      "record = 17, set = 9 | juneau\n",
      "record = 18, set = 9 | faya\n",
      "record = 19, set = 9 | tasiilaq\n",
      "record = 20, set = 9 | udankudi\n",
      "record = 21, set = 9 | umzimvubu\n",
      "record = 22, set = 9 | abu samrah\n",
      "record = 23, set = 9 | nautla\n",
      "record = 24, set = 9 | madona\n",
      "record = 25, set = 9 | paita\n",
      "record = 26, set = 9 | turukhansk\n",
      "record = 27, set = 9 | jambi\n",
      "record = 28, set = 9 | namatanai\n",
      "record = 29, set = 9 | dubbo\n",
      "record = 30, set = 9 | saryshagan\n",
      "record = 31, set = 9 | mantua\n",
      "record = 32, set = 9 | port keats\n",
      "record = 33, set = 9 | teya\n",
      "record = 34, set = 9 | kangaatsiaq\n",
      "record = 35, set = 9 | matara\n",
      "record = 36, set = 9 | aswan\n",
      "record = 37, set = 9 | salalah\n",
      "record = 38, set = 9 | orlik\n",
      "record = 39, set = 9 | pangnirtung\n",
      "record = 40, set = 9 | santiago\n",
      "record = 41, set = 9 | lipin bor\n",
      "record = 42, set = 9 | kavaratti\n",
      "record = 43, set = 9 | umm lajj\n",
      "record = 44, set = 9 | iqaluit\n",
      "record = 45, set = 9 | yaan\n",
      "record = 46, set = 9 | dwarka\n",
      "record = 47, set = 9 | rio gallegos\n",
      "record = 48, set = 9 | zlatoustovsk\n",
      "record = 49, set = 9 | isabela\n",
      "record = 50, set = 9 | honningsvag\n",
      "record = 1, set = 10 | port-cartier\n",
      "record = 2, set = 10 | meulaboh\n",
      "Missing field/result... skipping.\n",
      "record = 3, set = 10 | guerrero negro\n",
      "record = 4, set = 10 | port augusta\n",
      "record = 5, set = 10 | xai-xai\n",
      "record = 6, set = 10 | chifeng\n",
      "record = 7, set = 10 | plover\n",
      "record = 8, set = 10 | mbandaka\n",
      "record = 9, set = 10 | carutapera\n",
      "record = 10, set = 10 | fortuna\n",
      "record = 11, set = 10 | shitanjing\n",
      "record = 12, set = 10 | marsh harbour\n",
      "record = 13, set = 10 | taltal\n",
      "record = 14, set = 10 | alice springs\n",
      "record = 15, set = 10 | catamarca\n",
      "record = 16, set = 10 | mackay\n",
      "record = 17, set = 10 | placido de castro\n",
      "record = 18, set = 10 | la macarena\n",
      "record = 19, set = 10 | hun\n",
      "record = 20, set = 10 | stuttgart\n",
      "record = 21, set = 10 | panguna\n",
      "record = 22, set = 10 | mount isa\n",
      "record = 23, set = 10 | sal rei\n",
      "record = 24, set = 10 | iracoubo\n",
      "record = 25, set = 10 | alofi\n",
      "record = 26, set = 10 | okhotsk\n",
      "record = 27, set = 10 | santarem\n",
      "record = 28, set = 10 | krasnoborsk\n",
      "record = 29, set = 10 | tremembe\n",
      "record = 30, set = 10 | asmara\n",
      "record = 31, set = 10 | miranda\n",
      "record = 32, set = 10 | terrace\n",
      "record = 33, set = 10 | olga\n",
      "Missing field/result... skipping.\n",
      "record = 34, set = 10 | mersing\n",
      "Missing field/result... skipping.\n",
      "record = 35, set = 10 | chaozhou\n",
      "record = 36, set = 10 | tabou\n",
      "record = 37, set = 10 | kiruna\n",
      "record = 38, set = 10 | manzhouli\n",
      "record = 39, set = 10 | kachikau\n",
      "record = 40, set = 10 | guaca\n",
      "record = 41, set = 10 | tilichiki\n",
      "record = 42, set = 10 | gat\n",
      "record = 43, set = 10 | mairwa\n",
      "record = 44, set = 10 | portland\n",
      "record = 45, set = 10 | zolotinka\n",
      "record = 46, set = 10 | khani\n",
      "record = 47, set = 10 | caborca\n",
      "record = 48, set = 10 | lagoa\n",
      "record = 49, set = 10 | nioro\n",
      "record = 50, set = 10 | hasaki\n",
      "record = 1, set = 11 | baykit\n",
      "record = 2, set = 11 | san andres\n"
     ]
    },
    {
     "name": "stdout",
     "output_type": "stream",
     "text": [
      "record = 3, set = 11 | mandurah\n",
      "record = 4, set = 11 | baiyin\n",
      "record = 5, set = 11 | atikokan\n",
      "record = 6, set = 11 | tuatapere\n",
      "record = 7, set = 11 | puerto escondido\n",
      "record = 8, set = 11 | ouallam\n",
      "record = 9, set = 11 | barao de cocais\n",
      "record = 10, set = 11 | mackenzie\n",
      "record = 11, set = 11 | westport\n",
      "record = 12, set = 11 | chalus\n",
      "record = 13, set = 11 | hays\n",
      "record = 14, set = 11 | berlevag\n",
      "record = 15, set = 11 | louisbourg\n",
      "record = 16, set = 11 | ligayan\n",
      "record = 17, set = 11 | touros\n",
      "record = 18, set = 11 | lata\n",
      "record = 19, set = 11 | leningradskiy\n",
      "record = 20, set = 11 | henties bay\n",
      "record = 21, set = 11 | mattru\n",
      "record = 22, set = 11 | tempio pausania\n",
      "record = 23, set = 11 | lubao\n",
      "record = 24, set = 11 | carauari\n",
      "record = 25, set = 11 | bowen\n",
      "record = 26, set = 11 | arinos\n",
      "record = 27, set = 11 | bell ville\n",
      "record = 28, set = 11 | roebourne\n",
      "record = 29, set = 11 | galle\n",
      "record = 30, set = 11 | kon tum\n",
      "record = 31, set = 11 | romans-sur-isere\n",
      "record = 32, set = 11 | liepaja\n",
      "record = 33, set = 11 | cumberland\n",
      "record = 34, set = 11 | veinticinco de mayo\n",
      "record = 35, set = 11 | mokobeng\n",
      "record = 36, set = 11 | iralaya\n",
      "record = 37, set = 11 | tailai\n",
      "record = 38, set = 11 | saint anthony\n",
      "record = 39, set = 11 | asau\n",
      "record = 40, set = 11 | huntsville\n",
      "record = 41, set = 11 | peleduy\n",
      "record = 42, set = 11 | tumannyy\n",
      "record = 43, set = 11 | qasigiannguit\n",
      "record = 44, set = 11 | quartucciu\n",
      "record = 45, set = 11 | port blair\n",
      "record = 46, set = 11 | benguela\n",
      "record = 47, set = 11 | quiruvilca\n",
      "record = 48, set = 11 | ponazyrevo\n",
      "record = 49, set = 11 | keshabpur\n",
      "record = 50, set = 11 | kipushi\n",
      "record = 1, set = 12 | batsfjord\n",
      "record = 2, set = 12 | morganton\n",
      "record = 3, set = 12 | waitara\n",
      "record = 4, set = 12 | champerico\n",
      "record = 5, set = 12 | botngard\n",
      "record = 6, set = 12 | camacupa\n",
      "record = 7, set = 12 | siwana\n",
      "record = 8, set = 12 | koungheul\n",
      "record = 9, set = 12 | san rafael del sur\n",
      "record = 10, set = 12 | acapulco\n",
      "record = 11, set = 12 | caico\n",
      "record = 12, set = 12 | tecoanapa\n",
      "record = 13, set = 12 | bestobe\n",
      "record = 14, set = 12 | kuloy\n",
      "record = 15, set = 12 | ambulu\n",
      "record = 16, set = 12 | christchurch\n",
      "record = 17, set = 12 | port-gentil\n",
      "record = 18, set = 12 | gandajika\n",
      "record = 19, set = 12 | sorland\n",
      "record = 20, set = 12 | tonj\n",
      "record = 21, set = 12 | manbij\n",
      "record = 22, set = 12 | jurm\n",
      "record = 23, set = 12 | sisimiut\n",
      "record = 24, set = 12 | bilibino\n",
      "record = 25, set = 12 | acarau\n",
      "record = 26, set = 12 | yibin\n",
      "record = 27, set = 12 | longyan\n",
      "record = 28, set = 12 | yauya\n",
      "record = 29, set = 12 | ostrovnoy\n",
      "record = 30, set = 12 | liverpool\n",
      "record = 31, set = 12 | port macquarie\n",
      "record = 32, set = 12 | garachine\n",
      "record = 33, set = 12 | ugoofaaru\n",
      "record = 34, set = 12 | atambua\n",
      "record = 35, set = 12 | samana\n",
      "record = 36, set = 12 | kampot\n"
     ]
    },
    {
     "data": {
      "text/html": [
       "<div>\n",
       "<style scoped>\n",
       "    .dataframe tbody tr th:only-of-type {\n",
       "        vertical-align: middle;\n",
       "    }\n",
       "\n",
       "    .dataframe tbody tr th {\n",
       "        vertical-align: top;\n",
       "    }\n",
       "\n",
       "    .dataframe thead th {\n",
       "        text-align: right;\n",
       "    }\n",
       "</style>\n",
       "<table border=\"1\" class=\"dataframe\">\n",
       "  <thead>\n",
       "    <tr style=\"text-align: right;\">\n",
       "      <th></th>\n",
       "      <th>city</th>\n",
       "      <th>Lat</th>\n",
       "      <th>Lng</th>\n",
       "      <th>temp</th>\n",
       "      <th>hum</th>\n",
       "      <th>pres</th>\n",
       "      <th>cloud</th>\n",
       "      <th>wind</th>\n",
       "      <th>country</th>\n",
       "      <th>date</th>\n",
       "    </tr>\n",
       "  </thead>\n",
       "  <tbody>\n",
       "    <tr>\n",
       "      <th>0</th>\n",
       "      <td>aklavik</td>\n",
       "      <td>68.219916</td>\n",
       "      <td>-135.007788</td>\n",
       "      <td>50.00</td>\n",
       "      <td>93.0</td>\n",
       "      <td>1012.0</td>\n",
       "      <td>90.0</td>\n",
       "      <td>8.05</td>\n",
       "      <td>CA</td>\n",
       "      <td>1.596020e+09</td>\n",
       "    </tr>\n",
       "    <tr>\n",
       "      <th>1</th>\n",
       "      <td>punta arenas</td>\n",
       "      <td>-53.163833</td>\n",
       "      <td>-70.917068</td>\n",
       "      <td>41.00</td>\n",
       "      <td>75.0</td>\n",
       "      <td>1011.0</td>\n",
       "      <td>40.0</td>\n",
       "      <td>18.34</td>\n",
       "      <td>CL</td>\n",
       "      <td>1.596026e+09</td>\n",
       "    </tr>\n",
       "    <tr>\n",
       "      <th>2</th>\n",
       "      <td>rikitea</td>\n",
       "      <td>-23.122303</td>\n",
       "      <td>-134.969154</td>\n",
       "      <td>72.81</td>\n",
       "      <td>81.0</td>\n",
       "      <td>1021.0</td>\n",
       "      <td>8.0</td>\n",
       "      <td>12.55</td>\n",
       "      <td>PF</td>\n",
       "      <td>1.596037e+09</td>\n",
       "    </tr>\n",
       "    <tr>\n",
       "      <th>3</th>\n",
       "      <td>ushuaia</td>\n",
       "      <td>-54.801912</td>\n",
       "      <td>-68.302951</td>\n",
       "      <td>39.20</td>\n",
       "      <td>87.0</td>\n",
       "      <td>1005.0</td>\n",
       "      <td>40.0</td>\n",
       "      <td>32.21</td>\n",
       "      <td>AR</td>\n",
       "      <td>1.596026e+09</td>\n",
       "    </tr>\n",
       "    <tr>\n",
       "      <th>4</th>\n",
       "      <td>teguise</td>\n",
       "      <td>29.072052</td>\n",
       "      <td>-13.566830</td>\n",
       "      <td>80.60</td>\n",
       "      <td>57.0</td>\n",
       "      <td>1012.0</td>\n",
       "      <td>20.0</td>\n",
       "      <td>25.28</td>\n",
       "      <td>ES</td>\n",
       "      <td>1.596003e+09</td>\n",
       "    </tr>\n",
       "  </tbody>\n",
       "</table>\n",
       "</div>"
      ],
      "text/plain": [
       "           city        Lat         Lng   temp   hum    pres  cloud   wind  \\\n",
       "0       aklavik  68.219916 -135.007788  50.00  93.0  1012.0   90.0   8.05   \n",
       "1  punta arenas -53.163833  -70.917068  41.00  75.0  1011.0   40.0  18.34   \n",
       "2       rikitea -23.122303 -134.969154  72.81  81.0  1021.0    8.0  12.55   \n",
       "3       ushuaia -54.801912  -68.302951  39.20  87.0  1005.0   40.0  32.21   \n",
       "4       teguise  29.072052  -13.566830  80.60  57.0  1012.0   20.0  25.28   \n",
       "\n",
       "  country          date  \n",
       "0      CA  1.596020e+09  \n",
       "1      CL  1.596026e+09  \n",
       "2      PF  1.596037e+09  \n",
       "3      AR  1.596026e+09  \n",
       "4      ES  1.596003e+09  "
      ]
     },
     "execution_count": 22,
     "metadata": {},
     "output_type": "execute_result"
    }
   ],
   "source": [
    "params = {\n",
    "    \"units\":\"imperial\",\n",
    "    \"APPID\": weather_api_key\n",
    "}\n",
    "record = 0\n",
    "set1 = 1\n",
    "for index, row in cities_df.iterrows():\n",
    "    \n",
    "    base_url = \"http://api.openweathermap.org/data/2.5/weather\"\n",
    "    \n",
    "    lat = row['Lat']\n",
    "    lon = row['Lng']\n",
    "    \n",
    "    params[\"lat\"] = f\"{lat}\"\n",
    "    params['lon'] = f\"{lon}\"\n",
    "\n",
    "    weather_data = requests.get(base_url,params=params)\n",
    "\n",
    "    weather_data = weather_data.json()\n",
    "\n",
    "    try:\n",
    "        cities_df.loc[index,\"temp\"] =weather_data[\"main\"][\"temp\"]\n",
    "        cities_df.loc[index,\"hum\"] = weather_data[\"main\"][\"humidity\"]\n",
    "        cities_df.loc[index,\"pres\"] = weather_data[\"main\"][\"pressure\"]\n",
    "        cities_df.loc[index,\"cloud\"] = weather_data[\"clouds\"][\"all\"]\n",
    "        cities_df.loc[index,\"wind\"] = weather_data[\"wind\"][\"speed\"]\n",
    "        cities_df.loc[index,\"country\"] = weather_data[\"sys\"][\"country\"]\n",
    "        cities_df.loc[index,\"date\"] = weather_data[\"sys\"][\"sunrise\"]\n",
    "        if record <= 49:\n",
    "            record = record + 1\n",
    "        else:\n",
    "            set1 = set1 + 1\n",
    "            record = 1\n",
    "        print(\"record = \" + str(record) + \", set = \" + str(set1) + \" | \" + cities_df.loc[index,\"city\"])\n",
    "    except (KeyError, IndexError):\n",
    "        print(\"Missing field/result... skipping.\")\n",
    "\n",
    "cities_df.head()\n",
    "\n",
    "        "
   ]
  },
  {
   "cell_type": "code",
   "execution_count": 28,
   "metadata": {},
   "outputs": [],
   "source": [
    "cities_df_drop = cities_df.dropna()\n"
   ]
  },
  {
   "cell_type": "markdown",
   "metadata": {},
   "source": [
    "### Convert Raw Data to DataFrame\n",
    "* Export the city data into a .csv.\n",
    "* Display the DataFrame"
   ]
  },
  {
   "cell_type": "code",
   "execution_count": 29,
   "metadata": {},
   "outputs": [
    {
     "data": {
      "text/plain": [
       "city       586\n",
       "Lat        586\n",
       "Lng        586\n",
       "temp       586\n",
       "hum        586\n",
       "pres       586\n",
       "cloud      586\n",
       "wind       586\n",
       "country    586\n",
       "date       586\n",
       "dtype: int64"
      ]
     },
     "execution_count": 29,
     "metadata": {},
     "output_type": "execute_result"
    }
   ],
   "source": [
    "cities_df_drop.to_csv(\"Cities_Weather_Data.csv\")\n",
    "cities_df_drop.count()"
   ]
  },
  {
   "cell_type": "markdown",
   "metadata": {},
   "source": [
    "## Inspect the data and remove the cities where the humidity > 100%.\n",
    "----\n",
    "Skip this step if there are no cities that have humidity > 100%. "
   ]
  },
  {
   "cell_type": "code",
   "execution_count": null,
   "metadata": {},
   "outputs": [],
   "source": []
  },
  {
   "cell_type": "code",
   "execution_count": 25,
   "metadata": {},
   "outputs": [
    {
     "data": {
      "text/plain": [
       "city       586\n",
       "Lat        586\n",
       "Lng        586\n",
       "temp       586\n",
       "hum        586\n",
       "pres       586\n",
       "cloud      586\n",
       "wind       586\n",
       "country    586\n",
       "date       586\n",
       "dtype: int64"
      ]
     },
     "execution_count": 25,
     "metadata": {},
     "output_type": "execute_result"
    }
   ],
   "source": [
    "#  Get the indices of cities that have humidity over 100%.\n",
    "cities_df_drop[cities_df_drop['hum']<=100].count()\n",
    "\n",
    "# No problems with humidity > %100%\n"
   ]
  },
  {
   "cell_type": "code",
   "execution_count": 26,
   "metadata": {},
   "outputs": [],
   "source": [
    "# Make a new DataFrame equal to the city data to drop all humidity outliers by index.\n",
    "# Passing \"inplace=False\" will make a copy of the city_data DataFrame, which we call \"clean_city_data\".\n"
   ]
  },
  {
   "cell_type": "code",
   "execution_count": 9,
   "metadata": {},
   "outputs": [],
   "source": [
    "# Extract relevant fields from the data frame\n",
    "\n",
    "\n",
    "# Export the City_Data into a csv\n"
   ]
  },
  {
   "cell_type": "markdown",
   "metadata": {},
   "source": [
    "## Plotting the Data\n",
    "* Use proper labeling of the plots using plot titles (including date of analysis) and axes labels.\n",
    "* Save the plotted figures as .pngs."
   ]
  },
  {
   "cell_type": "markdown",
   "metadata": {},
   "source": [
    "## Latitude vs. Temperature Plot"
   ]
  },
  {
   "cell_type": "code",
   "execution_count": 44,
   "metadata": {
    "scrolled": true
   },
   "outputs": [
    {
     "data": {
      "image/png": "[encoded data removed]",
      "text/plain": [
       "<Figure size 432x288 with 1 Axes>"
      ]
     },
     "metadata": {
      "needs_background": "light"
     },
     "output_type": "display_data"
    }
   ],
   "source": [
    "\n",
    "plt.scatter(cities_df_drop['Lat'],cities_df_drop['temp'])\n",
    "plt.ylabel(\"Temp (F)\")\n",
    "plt.xlabel(\"Latitude\")\n",
    "plt.title(\"City Latitude vs. Temp 07/27/20\")\n",
    "\n",
    "plt.savefig(\"LatitudevsTemp.png\")\n",
    "\n",
    "# This plot shows that temperatures are higher towards the equator and lower towards the poles."
   ]
  },
  {
   "cell_type": "markdown",
   "metadata": {},
   "source": [
    "## Latitude vs. Humidity Plot"
   ]
  },
  {
   "cell_type": "code",
   "execution_count": 45,
   "metadata": {
    "scrolled": true
   },
   "outputs": [
    {
     "data": {
      "image/png": "[encoded data removed]",
      "text/plain": [
       "<Figure size 432x288 with 1 Axes>"
      ]
     },
     "metadata": {
      "needs_background": "light"
     },
     "output_type": "display_data"
    }
   ],
   "source": [
    "plt.scatter(cities_df_drop['Lat'],cities_df_drop['hum'])\n",
    "plt.ylabel(\"Humidity (%)\")\n",
    "plt.xlabel(\"Latitude\")\n",
    "plt.title(\"City Latitude vs. Humidity 07/27/20\")\n",
    "\n",
    "plt.savefig(\"LatitudevsHumidity.png\")\n",
    "\n",
    "# In general the data looks highly variable, but it does appear \n",
    "# Humidity near the equator looks to be more concentrated between 70-90%.  "
   ]
  },
  {
   "cell_type": "markdown",
   "metadata": {},
   "source": [
    "## Latitude vs. Cloudiness Plot"
   ]
  },
  {
   "cell_type": "code",
   "execution_count": 46,
   "metadata": {},
   "outputs": [
    {
     "data": {
      "image/png": "[encoded data removed]",
      "text/plain": [
       "<Figure size 432x288 with 1 Axes>"
      ]
     },
     "metadata": {
      "needs_background": "light"
     },
     "output_type": "display_data"
    }
   ],
   "source": [
    "plt.scatter(cities_df_drop['Lat'],cities_df_drop['cloud'])\n",
    "plt.ylabel(\"Cloudiness (%)\")\n",
    "plt.xlabel(\"Latitude\")\n",
    "plt.title(\"City Latitude vs. Cloudiness 07/27/20\")\n",
    "\n",
    "plt.savefig(\"LatitudevsCloudiness.png\")\n",
    "\n",
    "# There appears to be no correlation between latitude and cloudiness.\n",
    "# The data does not appear to be very precise because most of the data points are in lines at 0, 20, 40, 75, and 100"
   ]
  },
  {
   "cell_type": "markdown",
   "metadata": {},
   "source": [
    "## Latitude vs. Wind Speed Plot"
   ]
  },
  {
   "cell_type": "code",
   "execution_count": 47,
   "metadata": {},
   "outputs": [
    {
     "data": {
      "image/png": "[encoded data removed]",
      "text/plain": [
       "<Figure size 432x288 with 1 Axes>"
      ]
     },
     "metadata": {
      "needs_background": "light"
     },
     "output_type": "display_data"
    }
   ],
   "source": [
    "plt.scatter(cities_df_drop['Lat'],cities_df_drop['wind'])\n",
    "plt.ylabel(\"Wind Speed (mph))\")\n",
    "plt.xlabel(\"Latitude\")\n",
    "plt.title(\"City Latitude vs. Wind Speed 07/27/20\")\n",
    "\n",
    "plt.savefig(\"LatitudevsWindSpeed.png\")\n",
    "\n",
    "# Wind speed and latitude appear to have no correlation"
   ]
  },
  {
   "cell_type": "markdown",
   "metadata": {},
   "source": [
    "## Linear Regression"
   ]
  },
  {
   "cell_type": "code",
   "execution_count": 34,
   "metadata": {},
   "outputs": [],
   "source": [
    "# OPTIONAL: Create a function to create Linear Regression plots\n",
    "def trendline(x,y):\n",
    "    import scipy.stats as st\n",
    "    slope, inter, r, p, std_err = st.linregress(x,y)\n",
    "    fit = slope * x + inter\n",
    "    plt.plot(x,fit,\"--r\",label=\"y = \"+ str(round(slope,2)) + \"x + \"+ str(round(inter,1))+', r = ' + str(round(r,2)))\n",
    "    plt.legend()\n",
    "    "
   ]
  },
  {
   "cell_type": "code",
   "execution_count": 35,
   "metadata": {},
   "outputs": [],
   "source": [
    "# Create Northern and Southern Hemisphere DataFrames\n",
    "north_hem_cities_df_drop= cities_df_drop[cities_df_drop['Lat']>0]\n",
    "south_hem_cities_df_drop=cities_df_drop[cities_df_drop['Lat']<0]"
   ]
  },
  {
   "cell_type": "markdown",
   "metadata": {},
   "source": [
    "####  Northern Hemisphere - Max Temp vs. Latitude Linear Regression"
   ]
  },
  {
   "cell_type": "code",
   "execution_count": 48,
   "metadata": {},
   "outputs": [
    {
     "data": {
      "image/png": "[encoded data removed]",
      "text/plain": [
       "<Figure size 432x288 with 1 Axes>"
      ]
     },
     "metadata": {
      "needs_background": "light"
     },
     "output_type": "display_data"
    }
   ],
   "source": [
    "plt.scatter(north_hem_cities_df_drop['Lat'],north_hem_cities_df_drop['temp'])\n",
    "plt.ylabel(\"Temp (F)\")\n",
    "plt.xlabel(\"Latitude\")\n",
    "plt.title(\"Northern Hem Latitude vs. Temp 07/27/20\")\n",
    "trendline(north_hem_cities_df_drop['Lat'],north_hem_cities_df_drop['temp'])\n",
    "\n",
    "plt.savefig(\"NorthernHemLatitudevsTemp.png\")"
   ]
  },
  {
   "cell_type": "markdown",
   "metadata": {},
   "source": [
    "####  Southern Hemisphere - Max Temp vs. Latitude Linear Regression"
   ]
  },
  {
   "cell_type": "code",
   "execution_count": 49,
   "metadata": {},
   "outputs": [
    {
     "data": {
      "image/png": "[encoded data removed]",
      "text/plain": [
       "<Figure size 432x288 with 1 Axes>"
      ]
     },
     "metadata": {
      "needs_background": "light"
     },
     "output_type": "display_data"
    }
   ],
   "source": [
    "plt.scatter(south_hem_cities_df_drop['Lat'],south_hem_cities_df_drop['temp'])\n",
    "plt.ylabel(\"Temp (F)\")\n",
    "plt.xlabel(\"Latitude\")\n",
    "plt.title(\"Southern Hem Latitude vs. Temp 07/27/20\")\n",
    "trendline(south_hem_cities_df_drop['Lat'],south_hem_cities_df_drop['temp'])\n",
    "\n",
    "plt.savefig(\"SouthernHemLatitudevsTemp.png\")\n",
    "\n",
    "# These plots show there is a good correlation between latitude and Temp"
   ]
  },
  {
   "cell_type": "markdown",
   "metadata": {},
   "source": [
    "####  Northern Hemisphere - Humidity (%) vs. Latitude Linear Regression"
   ]
  },
  {
   "cell_type": "code",
   "execution_count": 50,
   "metadata": {},
   "outputs": [
    {
     "data": {
      "image/png": "[encoded data removed]",
      "text/plain": [
       "<Figure size 432x288 with 1 Axes>"
      ]
     },
     "metadata": {
      "needs_background": "light"
     },
     "output_type": "display_data"
    }
   ],
   "source": [
    "plt.scatter(north_hem_cities_df_drop['Lat'],north_hem_cities_df_drop['hum'])\n",
    "plt.ylabel(\"Humidity(%)\")\n",
    "plt.xlabel(\"Latitude\")\n",
    "plt.title(\"Northern Hem Latitude vs. Humidity 07/27/20\")\n",
    "trendline(north_hem_cities_df_drop['Lat'],north_hem_cities_df_drop['hum'])\n",
    "\n",
    "plt.savefig(\"NorthernHemLatitudevsHumidity.png\")"
   ]
  },
  {
   "cell_type": "markdown",
   "metadata": {},
   "source": [
    "####  Southern Hemisphere - Humidity (%) vs. Latitude Linear Regression"
   ]
  },
  {
   "cell_type": "code",
   "execution_count": 51,
   "metadata": {},
   "outputs": [
    {
     "data": {
      "image/png": "[encoded data removed]",
      "text/plain": [
       "<Figure size 432x288 with 1 Axes>"
      ]
     },
     "metadata": {
      "needs_background": "light"
     },
     "output_type": "display_data"
    }
   ],
   "source": [
    "plt.scatter(south_hem_cities_df_drop['Lat'],south_hem_cities_df_drop['hum'])\n",
    "plt.ylabel(\"Humidity(%)\")\n",
    "plt.xlabel(\"Latitude\")\n",
    "plt.title(\"Southern Hem Latitude vs. Humidity 07/27/20\")\n",
    "trendline(south_hem_cities_df_drop['Lat'],south_hem_cities_df_drop['hum'])\n",
    "\n",
    "plt.savefig(\"SouthernHemLatitudevsHumidity.png\")\n",
    "\n",
    "# Humidity has no correlation to latitude.  Humidity is more dependent on elevation."
   ]
  },
  {
   "cell_type": "markdown",
   "metadata": {},
   "source": [
    "####  Northern Hemisphere - Cloudiness (%) vs. Latitude Linear Regression"
   ]
  },
  {
   "cell_type": "code",
   "execution_count": 52,
   "metadata": {},
   "outputs": [
    {
     "data": {
      "image/png": "[encoded data removed]",
      "text/plain": [
       "<Figure size 432x288 with 1 Axes>"
      ]
     },
     "metadata": {
      "needs_background": "light"
     },
     "output_type": "display_data"
    }
   ],
   "source": [
    "plt.scatter(north_hem_cities_df_drop['Lat'],north_hem_cities_df_drop['cloud'])\n",
    "plt.ylabel(\"Cloudiness(%)\")\n",
    "plt.xlabel(\"Latitude\")\n",
    "plt.title(\"Northern Hem Latitude vs. Cloudiness 07/27/20\")\n",
    "trendline(north_hem_cities_df_drop['Lat'],north_hem_cities_df_drop['cloud'])\n",
    "\n",
    "plt.savefig(\"NorthernHemLatitudevsCloudiness.png\")"
   ]
  },
  {
   "cell_type": "markdown",
   "metadata": {},
   "source": [
    "####  Southern Hemisphere - Cloudiness (%) vs. Latitude Linear Regression"
   ]
  },
  {
   "cell_type": "code",
   "execution_count": 53,
   "metadata": {},
   "outputs": [
    {
     "data": {
      "image/png": "[encoded data removed]",
      "text/plain": [
       "<Figure size 432x288 with 1 Axes>"
      ]
     },
     "metadata": {
      "needs_background": "light"
     },
     "output_type": "display_data"
    }
   ],
   "source": [
    "plt.scatter(south_hem_cities_df_drop['Lat'],south_hem_cities_df_drop['cloud'])\n",
    "plt.ylabel(\"Cloudiness(%)\")\n",
    "plt.xlabel(\"Latitude\")\n",
    "plt.title(\"southern Hem Latitude vs. Cloudiness 07/27/20\")\n",
    "trendline(south_hem_cities_df_drop['Lat'],south_hem_cities_df_drop['cloud'])\n",
    "\n",
    "plt.savefig(\"SouthernHemLatitudevsCloudiness.png\")\n",
    "\n",
    "# Cloudiness has not coreelation to latitude.  There are a significant amount of variables that effect Cloudiness\n",
    "# making a bivariate analysis inadequate "
   ]
  },
  {
   "cell_type": "markdown",
   "metadata": {},
   "source": [
    "####  Northern Hemisphere - Wind Speed (mph) vs. Latitude Linear Regression"
   ]
  },
  {
   "cell_type": "code",
   "execution_count": 54,
   "metadata": {},
   "outputs": [
    {
     "data": {
      "image/png": "[encoded data removed]",
      "text/plain": [
       "<Figure size 432x288 with 1 Axes>"
      ]
     },
     "metadata": {
      "needs_background": "light"
     },
     "output_type": "display_data"
    }
   ],
   "source": [
    "plt.scatter(north_hem_cities_df_drop['Lat'],north_hem_cities_df_drop['wind'])\n",
    "plt.ylabel(\"Wind Speed (mph)\")\n",
    "plt.xlabel(\"Latitude\")\n",
    "plt.title(\"Northern Hem Latitude vs. Wind Speed 07/27/20\")\n",
    "trendline(north_hem_cities_df_drop['Lat'],north_hem_cities_df_drop['wind'])\n",
    "\n",
    "plt.savefig(\"NorthernHemLatitudevsWindSpeed.png\")"
   ]
  },
  {
   "cell_type": "markdown",
   "metadata": {},
   "source": [
    "####  Southern Hemisphere - Wind Speed (mph) vs. Latitude Linear Regression"
   ]
  },
  {
   "cell_type": "code",
   "execution_count": 55,
   "metadata": {},
   "outputs": [
    {
     "data": {
      "image/png": "[encoded data removed]",
      "text/plain": [
       "<Figure size 432x288 with 1 Axes>"
      ]
     },
     "metadata": {
      "needs_background": "light"
     },
     "output_type": "display_data"
    }
   ],
   "source": [
    "plt.scatter(south_hem_cities_df_drop['Lat'],south_hem_cities_df_drop['wind'])\n",
    "plt.ylabel(\"Wind Speed (mph)\")\n",
    "plt.xlabel(\"Latitude\")\n",
    "plt.title(\"southern Hem Latitude vs. Wind Speed 07/27/20\")\n",
    "trendline(south_hem_cities_df_drop['Lat'],south_hem_cities_df_drop['wind'])\n",
    "\n",
    "plt.savefig(\"SouthernHemLatitudevsWindSpeed.png\")\n",
    "\n",
    "# Wind speed has no correlation with latitudes.  Wind also has a high number of variables that \n",
    "# that make bivariate analysis inadequate"
   ]
  },
  {
   "cell_type": "code",
   "execution_count": null,
   "metadata": {},
   "outputs": [],
   "source": []
  }
 ],
 "metadata": {
  "anaconda-cloud": {},
  "kernel_info": {
   "name": "python3"
  },
  "kernelspec": {
   "display_name": "Python 3",
   "language": "python",
   "name": "python3"
  },
  "language_info": {
   "codemirror_mode": {
    "name": "ipython",
    "version": 3
   },
   "file_extension": ".py",
   "mimetype": "text/x-python",
   "name": "python",
   "nbconvert_exporter": "python",
   "pygments_lexer": "ipython3",
   "version": "3.7.6"
  },
  "latex_envs": {
   "LaTeX_envs_menu_present": true,
   "autoclose": false,
   "autocomplete": true,
   "bibliofile": "biblio.bib",
   "cite_by": "apalike",
   "current_citInitial": 1,
   "eqLabelWithNumbers": true,
   "eqNumInitial": 1,
   "hotkeys": {
    "equation": "Ctrl-E",
    "itemize": "Ctrl-I"
   },
   "labels_anchors": false,
   "latex_user_defs": false,
   "report_style_numbering": false,
   "user_envs_cfg": false
  },
  "nteract": {
   "version": "0.12.3"
  }
 },
 "nbformat": 4,
 "nbformat_minor": 2
}
